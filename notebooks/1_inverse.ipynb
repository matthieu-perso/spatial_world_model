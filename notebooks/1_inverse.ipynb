{
  "nbformat": 4,
  "nbformat_minor": 0,
  "metadata": {
    "colab": {
      "provenance": [],
      "collapsed_sections": [
        "9HrfyTtz37RY",
        "gASvKlKx56A3",
        "ltbp-5d88JP8"
      ],
      "machine_shape": "hm",
      "gpuType": "L4"
    },
    "kernelspec": {
      "name": "python3",
      "display_name": "Python 3"
    },
    "language_info": {
      "name": "python"
    },
    "accelerator": "GPU"
  },
  "cells": [
    {
      "cell_type": "markdown",
      "source": [
        "## setup"
      ],
      "metadata": {
        "id": "9HrfyTtz37RY"
      }
    },
    {
      "cell_type": "code",
      "execution_count": null,
      "metadata": {
        "id": "jxHAn2q_34S9"
      },
      "outputs": [],
      "source": [
        "import einops\n",
        "import h5py\n",
        "import matplotlib.pyplot as plt\n",
        "import numpy as np\n",
        "import pandas as pd\n",
        "import random\n",
        "import re\n",
        "import time\n",
        "import torch\n",
        "\n",
        "from dataclasses import dataclass\n",
        "from google.colab import drive\n",
        "from sklearn.decomposition import PCA\n",
        "from sklearn.metrics import accuracy_score, classification_report\n",
        "from sklearn.metrics.pairwise import cosine_similarity\n",
        "from sklearn.model_selection import train_test_split\n",
        "from sklearn.preprocessing import LabelEncoder\n",
        "from tabulate import tabulate\n",
        "from torch import Tensor\n",
        "from torch.utils.data import DataLoader, TensorDataset\n",
        "from tqdm import tqdm\n",
        "from typing import Dict, List, Tuple"
      ]
    },
    {
      "cell_type": "markdown",
      "source": [
        "## utils"
      ],
      "metadata": {
        "id": "pE1YZ_z14jTw"
      }
    },
    {
      "cell_type": "code",
      "source": [
        "# ==================\n",
        "# function: set seed\n",
        "# ==================\n",
        "def set_seed(seed: int = 42):\n",
        "    torch.manual_seed(seed)\n",
        "    torch.cuda.manual_seed(seed)\n",
        "    torch.cuda.manual_seed_all(seed)  # for multi-GPU setups\n",
        "    np.random.seed(seed)\n",
        "    random.seed(seed)\n",
        "\n",
        "    # ensures deterministic operations on GPU\n",
        "    torch.backends.cudnn.deterministic = True\n",
        "    torch.backends.cudnn.benchmark = False  # Disable benchmark mode\n",
        "\n",
        "\n",
        "# ========================\n",
        "# function: get directions\n",
        "# ========================\n",
        "def get_directions(\n",
        "    linear_probe: Tensor,\n",
        "    options: int,\n",
        "    mappings: Dict[str, int],\n",
        "    verbose: bool = True\n",
        "    ) -> Dict[str, Tensor]:\n",
        "    \"\"\"\n",
        "    extract directions (unnormalized) from linear probe\n",
        "    \"\"\"\n",
        "    directions = linear_probe.detach().cpu().numpy()\n",
        "    mapping = mappings[\"relation\"]\n",
        "\n",
        "    # create a mapping from class names to their weight vectors\n",
        "    directions_dict = {}\n",
        "\n",
        "    for relation, relation_index in mapping.items():\n",
        "        if relation_index < options:\n",
        "            directions_dict[relation] = directions[:, int(relation_index)]\n",
        "\n",
        "    if verbose:\n",
        "      for relation in mapping.items():\n",
        "          print(f\"shape of direction {relation[0]} vector (d_model,) = {directions_dict[relation[0]].shape}\" if verbose else \"\")\n",
        "\n",
        "    return directions_dict"
      ],
      "metadata": {
        "id": "XBz_BSzB4k1y"
      },
      "execution_count": null,
      "outputs": []
    },
    {
      "cell_type": "markdown",
      "source": [
        "## data utils"
      ],
      "metadata": {
        "id": "gASvKlKx56A3"
      }
    },
    {
      "cell_type": "code",
      "source": [
        "# =========================\n",
        "# function: parse sentences\n",
        "# =========================\n",
        "def parse_sentences(\n",
        "    sentences: List[str],\n",
        "    verbose: bool = True,\n",
        "    num_sample_triplets: int = 100\n",
        ") -> Dict[str, List]:\n",
        "    \"\"\"\n",
        "    Parses sentences into structured triplets with precise relation extraction.\n",
        "    \"\"\"\n",
        "    start_time = time.time()\n",
        "\n",
        "    triplets = []\n",
        "    valid_indices = []\n",
        "\n",
        "    # Updated regex pattern to capture the full multi-word relation\n",
        "    pattern = r\"The\\s+(.*?)\\s+is\\s+(.*)\\s+the\\s+(.*?)\\.\"\n",
        "\n",
        "    for i, sentence in enumerate(sentences):\n",
        "        # decode the byte string to a regular string\n",
        "        sentence = sentence.decode('utf-8')\n",
        "        match = re.match(pattern, sentence, re.IGNORECASE)\n",
        "        if match:\n",
        "            obj1 = match.group(1).strip()\n",
        "            relation = match.group(2).strip()\n",
        "            obj2 = match.group(3).strip()\n",
        "            triplets.append((obj1, relation, obj2))\n",
        "            valid_indices.append(i)\n",
        "\n",
        "    if verbose:\n",
        "        print(\"\\n=== triplets ===\")\n",
        "        for i in range(min(num_sample_triplets, len(triplets))):\n",
        "            print(f\"{i}: {triplets[i]}\")\n",
        "\n",
        "    return {\n",
        "        \"triplets\": triplets,\n",
        "        \"valid_indices\": valid_indices\n",
        "    }\n",
        "\n",
        "\n",
        "# =========================\n",
        "# function: encode triplets\n",
        "# =========================\n",
        "def encode_triplets(\n",
        "    triplets: List[Tuple[str, str, str]],\n",
        "    verbose: bool = True\n",
        ") -> Tuple[Dict[str, np.ndarray], Dict[str, Dict[str, int]]]:\n",
        "    \"\"\"\n",
        "    encode triplets for model training\n",
        "    \"\"\"\n",
        "    start_time = time.time()\n",
        "    print(\"encoding triplets...\" if verbose else \"\")\n",
        "\n",
        "    # extract separate components\n",
        "    objects1, relations, objects2 = zip(*triplets)\n",
        "\n",
        "    # filter out empty strings\n",
        "    objects1 = [obj if obj else \"UNKNOWN\" for obj in objects1]\n",
        "    relations = [rel if rel else \"UNKNOWN\" for rel in relations]\n",
        "    objects2 = [obj if obj else \"UNKNOWN\" for obj in objects2]\n",
        "\n",
        "    # encode each component\n",
        "    obj1_encoder = LabelEncoder()\n",
        "    rel_encoder = LabelEncoder()\n",
        "    obj2_encoder = LabelEncoder()\n",
        "\n",
        "    obj1_labels = obj1_encoder.fit_transform(objects1)\n",
        "    rel_labels = rel_encoder.fit_transform(relations)\n",
        "    obj2_labels = obj2_encoder.fit_transform(objects2)\n",
        "\n",
        "    labels = {\"object_1\": obj1_labels, \"relation\": rel_labels, \"object_2\": obj2_labels}\n",
        "\n",
        "    # create mapping dictionaries for later analysis\n",
        "    obj1_mapping = dict(zip(obj1_encoder.classes_, range(len(obj1_encoder.classes_))))\n",
        "    rel_mapping = dict(zip(rel_encoder.classes_, range(len(rel_encoder.classes_))))\n",
        "    obj2_mapping = dict(zip(obj2_encoder.classes_, range(len(obj2_encoder.classes_))))\n",
        "\n",
        "    mappings = {\"object_1\": obj1_mapping, \"relation\": rel_mapping, \"object_2\": obj2_mapping}\n",
        "\n",
        "    if verbose:\n",
        "        print(f\"found {len(obj1_mapping)} unique objects as subject\")\n",
        "        print(f\"found {len(rel_mapping)} unique relations\")\n",
        "        print(f\"found {len(obj2_mapping)} unique objects as object\")\n",
        "\n",
        "        # Print some of the unique relations\n",
        "        print(\"\\nrelations used:\")\n",
        "        sample_relations = list(rel_mapping.keys())\n",
        "        for i, rel in enumerate(sample_relations):\n",
        "            print(f\"{i}: {rel}\")\n",
        "\n",
        "        print(f\"encoding completed in {time.time() - start_time:.2f} seconds\")\n",
        "\n",
        "    return labels, mappings\n",
        "\n",
        "\n",
        "# ============================\n",
        "# function: prepare data split\n",
        "# ============================\n",
        "def prepare_data_split(layer_data: torch.Tensor, valid_indices: List[int], labels: Dict[str, np.ndarray], test_size: float=0.2) -> Dict[str, torch.Tensor]:\n",
        "    \"\"\"\n",
        "    prepare single train/test split for all labels\n",
        "    \"\"\"\n",
        "    # filter embeddings to keep only valid indices\n",
        "    X = layer_data[valid_indices]\n",
        "\n",
        "    # create a single train/test split for all labels\n",
        "    X_train, X_test, y_rel_train, y_rel_test = train_test_split(\n",
        "        X,\n",
        "        labels[\"relation\"],\n",
        "        test_size=test_size,\n",
        "        random_state=42\n",
        "        )\n",
        "\n",
        "    # convert to PyTorch tensors\n",
        "    X_train_tensor = X_train.clone().detach().float()\n",
        "    X_test_tensor = X_test.clone().detach().float()\n",
        "\n",
        "    y_rel_train_tensor = torch.tensor(y_rel_train, dtype=torch.long)\n",
        "    y_rel_test_tensor = torch.tensor(y_rel_test, dtype=torch.long)\n",
        "\n",
        "    return {\n",
        "        'X_train': X_train_tensor,\n",
        "        'X_test': X_test_tensor,\n",
        "        'y_rel_train': y_rel_train_tensor,\n",
        "        'y_rel_test': y_rel_test_tensor,\n",
        "        }\n",
        "\n",
        "# =============================\n",
        "# function: create data loaders\n",
        "# =============================\n",
        "def create_data_loaders(split_data: Dict[str, torch.Tensor], batch_size: int=256) -> Dict[str, Dict[str, TensorDataset]]:\n",
        "    \"\"\"\n",
        "    create data loaders for training and testing\n",
        "    \"\"\"\n",
        "    # create training dataset\n",
        "    train_rel_dataset = TensorDataset(split_data['X_train'], split_data['y_rel_train'])\n",
        "\n",
        "    # create test dataset\n",
        "    test_rel_dataset = TensorDataset(split_data['X_test'], split_data['y_rel_test'])\n",
        "\n",
        "    # create data loaders\n",
        "    train_rel_loader = DataLoader(train_rel_dataset, batch_size=batch_size, shuffle=True)\n",
        "    test_rel_loader = DataLoader(test_rel_dataset, batch_size=batch_size)\n",
        "\n",
        "    return {\n",
        "        'train': {\n",
        "            'relation': train_rel_loader,\n",
        "            },\n",
        "        'test': {\n",
        "            'relation': test_rel_loader,\n",
        "            }\n",
        "        }"
      ],
      "metadata": {
        "id": "UKuD0KeJ58sA"
      },
      "execution_count": null,
      "outputs": []
    },
    {
      "cell_type": "markdown",
      "source": [
        "## linear probes"
      ],
      "metadata": {
        "id": "ltbp-5d88JP8"
      }
    },
    {
      "cell_type": "code",
      "source": [
        "# ============================\n",
        "# class: probe train arguments\n",
        "# ============================\n",
        "@dataclass\n",
        "class ProbeTrainingArgs:\n",
        "    verbose: bool = False\n",
        "    device: torch.device = torch.device(\"cuda\" if torch.cuda.is_available() else \"cpu\")\n",
        "\n",
        "    # layer information\n",
        "    layer_name: str = \"layer_8\"\n",
        "\n",
        "    # spatial relation state\n",
        "    options: int = 4\n",
        "    d_model: int = 3072\n",
        "\n",
        "    # standard training hyperparams\n",
        "    epochs: int = 10\n",
        "\n",
        "    # hyperparams for optimizer\n",
        "    lr: float = 1e-3\n",
        "\n",
        "    # cpde to get randomly initialized probe\n",
        "    def setup_probe(self) -> torch.Tensor:\n",
        "        linear_probe = torch.randn(self.d_model, self.options, device=self.device) / np.sqrt(self.d_model)\n",
        "        linear_probe.requires_grad = True\n",
        "        print(f\"shape of linear probe is: d_model = {linear_probe.shape[0]} and options = {linear_probe.shape[-1]}\" if self.verbose else \"\")\n",
        "        return linear_probe\n",
        "\n",
        "\n",
        "# ===========================\n",
        "# class: Linear probe trainer\n",
        "# ===========================\n",
        "class LinearProbeTrainer:\n",
        "    def __init__(self, args: ProbeTrainingArgs, dataloader: torch.utils.data.DataLoader):\n",
        "        self.args = args\n",
        "        self.linear_probe = args.setup_probe()\n",
        "        self.dataloader = dataloader\n",
        "\n",
        "    def train(self):\n",
        "        if self.args.verbose:\n",
        "            print(f\"\\ntraining a linear probe for spatial relations of layer {self.args.layer_name} for {self.args.epochs} epochs ...\\n\")\n",
        "        self.step = 0\n",
        "\n",
        "        # define optimizer\n",
        "        optimizer = torch.optim.Adam(\n",
        "            [self.linear_probe], lr=self.args.lr\n",
        "        )\n",
        "\n",
        "        # define loss criterion\n",
        "        criterion = torch.nn.CrossEntropyLoss()\n",
        "\n",
        "        for epoch in range(self.args.epochs):\n",
        "            total_loss = 0\n",
        "            correct = 0\n",
        "            total = 0\n",
        "\n",
        "            for inputs, targets in tqdm(self.dataloader, desc=f\"Epoch {epoch+1}/{self.args.epochs}\"):\n",
        "\n",
        "                # move data to device\n",
        "                inputs, targets = inputs.to(self.args.device), targets.to(self.args.device)\n",
        "\n",
        "                # get probe output\n",
        "                probe_preds = einops.einsum(\n",
        "                    inputs,\n",
        "                    self.linear_probe,\n",
        "                    \"batch d_model, d_model options -> batch options\",\n",
        "                    )\n",
        "\n",
        "                # compute loss\n",
        "                loss = criterion(probe_preds, targets)\n",
        "\n",
        "                # optimize\n",
        "                loss.backward()\n",
        "                optimizer.step()\n",
        "                optimizer.zero_grad()\n",
        "\n",
        "                # update loss and accuracy\n",
        "                total_loss += loss.item()\n",
        "                _, predicted = torch.max(probe_preds.data, 1)\n",
        "                total += targets.size(0)\n",
        "                correct += (predicted == targets).sum().item()\n",
        "\n",
        "            # print epoch results\n",
        "            avg_loss = total_loss / len(self.dataloader)\n",
        "            accuracy = 100 * correct / total\n",
        "            print(f\"Epoch {epoch+1}/{self.args.epochs}: Loss={avg_loss:.4f}, Accuracy={accuracy:.2f}%\")\n",
        "\n",
        "# ========================\n",
        "# function: evaluate probe\n",
        "# ========================\n",
        "def evaluate_probe(linear_probe: torch.Tensor, dataloader: DataLoader, device=torch.device(\"cuda\" if torch.cuda.is_available() else \"cpu\")):\n",
        "    \"\"\"\n",
        "    evaluate a linear probe model\n",
        "    \"\"\"\n",
        "    all_preds = []\n",
        "    all_targets = []\n",
        "\n",
        "    with torch.inference_mode():\n",
        "        for inputs, targets in dataloader:\n",
        "\n",
        "            # move data to device\n",
        "            inputs, targets = inputs.to(device), targets.to(device)\n",
        "\n",
        "            # get linear probe preds\n",
        "            probe_preds = einops.einsum(\n",
        "                inputs,\n",
        "                linear_probe,\n",
        "                \"batch d_model, d_model options -> batch options\",\n",
        "                )\n",
        "            _, predicted = torch.max(probe_preds, 1)\n",
        "\n",
        "            all_preds.extend(predicted.cpu().numpy())\n",
        "            all_targets.extend(targets.cpu().numpy())\n",
        "\n",
        "    accuracy = accuracy_score(all_targets, all_preds)\n",
        "    report = classification_report(all_targets, all_preds, output_dict=True, zero_division=1)\n",
        "\n",
        "    return accuracy, report"
      ],
      "metadata": {
        "id": "qZvkyX638L6u"
      },
      "execution_count": null,
      "outputs": []
    },
    {
      "cell_type": "markdown",
      "source": [
        "## main"
      ],
      "metadata": {
        "id": "0BetW1e239tk"
      }
    },
    {
      "cell_type": "code",
      "source": [
        "# mount google drive\n",
        "drive.mount('/content/drive')\n",
        "\n",
        "# config variables\n",
        "VERBOSE = True\n",
        "selected_layer: int = 24\n",
        "\n",
        "# define device\n",
        "device = torch.device(\"cuda\" if torch.cuda.is_available() else \"cpu\")\n",
        "print(f\"we are using {device}\" if VERBOSE else \"\")\n",
        "\n",
        "# seet rng seed\n",
        "set_seed(1234)\n",
        "\n",
        "# define the dataset name\n",
        "# dataset_path = \"drive/MyDrive/datasets-sentences/simple_3D_250920_sentences.h5\"\n",
        "dataset_path = \"drive/MyDrive/simple_3D_516852_sentences.h5\""
      ],
      "metadata": {
        "colab": {
          "base_uri": "https://localhost:8080/"
        },
        "id": "iSSt-ycf3-07",
        "outputId": "74fec581-6374-49ad-8e9a-d76c51073d27"
      },
      "execution_count": null,
      "outputs": [
        {
          "output_type": "stream",
          "name": "stdout",
          "text": [
            "Drive already mounted at /content/drive; to attempt to forcibly remount, call drive.mount(\"/content/drive\", force_remount=True).\n",
            "we are using cuda\n"
          ]
        }
      ]
    },
    {
      "cell_type": "code",
      "source": [
        "# load the data\n",
        "dataset = h5py.File(dataset_path, 'r')\n",
        "\n",
        "# list the datasets (for example, \"sentences\" and possibly an \"embeddings\" group)\n",
        "print(list(dataset.keys()))\n",
        "\n",
        "# define sentences and embeddings\n",
        "sentences = dataset['sentences']\n",
        "embeddings = dataset['embeddings']\n",
        "# layers_list = [8, 16, 24]\n",
        "layers_list = [16, 24]         # for 500k data, we only have the 16th and 24th layers\n",
        "\n",
        "\n",
        "if VERBOSE:\n",
        "    print(\"\\n\" + \"=\" * 40)\n",
        "    print(\"📊 dataset and embedding statistics\")\n",
        "    print(\"=\" * 40)\n",
        "\n",
        "    # dataset statistics\n",
        "    print(f\"\\n🔢 dataset overview:\")\n",
        "    print(f\"• total sentences: {len(sentences):,}\")\n",
        "\n",
        "    # layer details\n",
        "    print(f\"\\n🧬 embedding layers extracted:\")\n",
        "    for k in layers_list:\n",
        "        layer_name = f\"layer_{k}\"\n",
        "        layer_shape = embeddings[layer_name].shape\n",
        "        print(f\"• layer {k}: shape: {layer_shape}\")\n",
        "    print(\"\\n\" + \"=\" * 40)"
      ],
      "metadata": {
        "colab": {
          "base_uri": "https://localhost:8080/"
        },
        "id": "ACr4zOLB4G5V",
        "outputId": "fd24c714-55d5-43e5-e18a-b0a411e92df4"
      },
      "execution_count": null,
      "outputs": [
        {
          "output_type": "stream",
          "name": "stdout",
          "text": [
            "['embeddings', 'sentences']\n",
            "\n",
            "========================================\n",
            "📊 dataset and embedding statistics\n",
            "========================================\n",
            "\n",
            "🔢 dataset overview:\n",
            "• total sentences: 516,852\n",
            "\n",
            "🧬 embedding layers extracted:\n",
            "• layer 16: shape: (516852, 3072)\n",
            "• layer 24: shape: (516852, 3072)\n",
            "\n",
            "========================================\n"
          ]
        }
      ]
    },
    {
      "cell_type": "markdown",
      "source": [
        "### training linear probes for 3D"
      ],
      "metadata": {
        "id": "yWGz-mCx5EPy"
      }
    },
    {
      "cell_type": "code",
      "source": [
        "# transform data to torch\n",
        "layers_tensors = {}\n",
        "for k in layers_list:\n",
        "    layer_name = f\"layer_{k}\"\n",
        "    layers_tensors[layer_name] = torch.tensor(embeddings[layer_name][:])\n",
        "    print(f\"layer {k} embeddings shape (# sentences, d_model): {layers_tensors[layer_name].shape}\" if VERBOSE else \"\")"
      ],
      "metadata": {
        "colab": {
          "base_uri": "https://localhost:8080/"
        },
        "id": "1rqoTrp746qi",
        "outputId": "53c09da2-3e96-481b-dc9e-35282623ce01"
      },
      "execution_count": null,
      "outputs": [
        {
          "output_type": "stream",
          "name": "stdout",
          "text": [
            "layer 16 embeddings shape (# sentences, d_model): torch.Size([516852, 3072])\n",
            "layer 24 embeddings shape (# sentences, d_model): torch.Size([516852, 3072])\n"
          ]
        }
      ]
    },
    {
      "cell_type": "code",
      "source": [
        "# parse senteces\n",
        "pars_sentences = parse_sentences(sentences, verbose=VERBOSE, num_sample_triplets=20)"
      ],
      "metadata": {
        "colab": {
          "base_uri": "https://localhost:8080/"
        },
        "id": "CZqdO3kg5Itx",
        "outputId": "7af47a4a-989f-4c65-a415-7e501bc574e4"
      },
      "execution_count": null,
      "outputs": [
        {
          "output_type": "stream",
          "name": "stdout",
          "text": [
            "\n",
            "=== triplets ===\n",
            "0: ('pen', 'above', 'pencil')\n",
            "1: ('pen', 'below', 'pencil')\n",
            "2: ('pen', 'to the right of', 'pencil')\n",
            "3: ('pen', 'to the left of', 'pencil')\n",
            "4: ('pen', 'in front of', 'pencil')\n",
            "5: ('pen', 'behind', 'pencil')\n",
            "6: ('pen', 'above', 'eraser')\n",
            "7: ('pen', 'below', 'eraser')\n",
            "8: ('pen', 'to the right of', 'eraser')\n",
            "9: ('pen', 'to the left of', 'eraser')\n",
            "10: ('pen', 'in front of', 'eraser')\n",
            "11: ('pen', 'behind', 'eraser')\n",
            "12: ('pen', 'above', 'notebook')\n",
            "13: ('pen', 'below', 'notebook')\n",
            "14: ('pen', 'to the right of', 'notebook')\n",
            "15: ('pen', 'to the left of', 'notebook')\n",
            "16: ('pen', 'in front of', 'notebook')\n",
            "17: ('pen', 'behind', 'notebook')\n",
            "18: ('pen', 'above', 'paper')\n",
            "19: ('pen', 'below', 'paper')\n"
          ]
        }
      ]
    },
    {
      "cell_type": "code",
      "source": [
        "# encode triplets\n",
        "labels, mappings = encode_triplets(pars_sentences[\"triplets\"], verbose=VERBOSE)"
      ],
      "metadata": {
        "colab": {
          "base_uri": "https://localhost:8080/"
        },
        "id": "C6Sfh6Ns6OWH",
        "outputId": "e532d82f-1764-4ec3-d8f2-5e02dd78c9c3"
      },
      "execution_count": null,
      "outputs": [
        {
          "output_type": "stream",
          "name": "stdout",
          "text": [
            "encoding triplets...\n",
            "found 293 unique objects as subject\n",
            "found 6 unique relations\n",
            "found 293 unique objects as object\n",
            "\n",
            "relations used:\n",
            "0: above\n",
            "1: behind\n",
            "2: below\n",
            "3: in front of\n",
            "4: to the left of\n",
            "5: to the right of\n",
            "encoding completed in 1.64 seconds\n"
          ]
        }
      ]
    },
    {
      "cell_type": "code",
      "source": [
        "# prepare layer data for split\n",
        "batch_size = {}\n",
        "dataloaders = {}\n",
        "test_size = 0.2\n",
        "\n",
        "# get number of relations\n",
        "options = len(mappings[\"relation\"])\n",
        "print(f\"number of unique relations: {options}\" if VERBOSE else \"\")\n",
        "\n",
        "for k in layers_list:\n",
        "    layer_name = f\"layer_{k}\"\n",
        "    batch_size[layer_name], d_model = layers_tensors[layer_name].shape\n",
        "    print(f\"layer data shape (num, d_model): {layers_tensors[layer_name].shape}\" if VERBOSE else \"\")\n",
        "\n",
        "    # create dataloaders\n",
        "    split_data = prepare_data_split(layers_tensors[layer_name], pars_sentences[\"valid_indices\"], labels, test_size=test_size)\n",
        "    dataloaders[layer_name] = create_data_loaders(split_data, batch_size=1024)"
      ],
      "metadata": {
        "colab": {
          "base_uri": "https://localhost:8080/"
        },
        "id": "fk-DB6ex7B8-",
        "outputId": "1a3ae810-02a7-4db1-f7fe-74824e1d9968"
      },
      "execution_count": null,
      "outputs": [
        {
          "output_type": "stream",
          "name": "stdout",
          "text": [
            "number of unique relations: 6\n",
            "layer data shape (num, d_model): torch.Size([516852, 3072])\n",
            "layer data shape (num, d_model): torch.Size([516852, 3072])\n"
          ]
        }
      ]
    },
    {
      "cell_type": "code",
      "source": [
        "# train the linear probe\n",
        "torch.set_grad_enabled(True)\n",
        "args = {}\n",
        "trainers = {}\n",
        "\n",
        "for k in layers_list:\n",
        "    layer_name = f\"layer_{k}\"\n",
        "    args[layer_name] = ProbeTrainingArgs(\n",
        "        d_model=d_model,\n",
        "        options=options,\n",
        "        layer_name=layer_name,\n",
        "        epochs=100,\n",
        "        lr=1e-3,\n",
        "        verbose=VERBOSE\n",
        "        )\n",
        "\n",
        "    trainers[layer_name] = LinearProbeTrainer(args[layer_name], dataloader=dataloaders[layer_name][\"train\"][\"relation\"])      # we focus only on the spatial relation\n",
        "    trainers[layer_name].train()"
      ],
      "metadata": {
        "colab": {
          "base_uri": "https://localhost:8080/"
        },
        "id": "LqA4ArVs7s79",
        "outputId": "7f705a60-4703-4a54-bb50-40b13cd48e87"
      },
      "execution_count": null,
      "outputs": [
        {
          "output_type": "stream",
          "name": "stdout",
          "text": [
            "shape of linear probe is: d_model = 3072 and options = 6\n",
            "\n",
            "training a linear probe for spatial relations of layer layer_16 for 100 epochs ...\n",
            "\n"
          ]
        },
        {
          "output_type": "stream",
          "name": "stderr",
          "text": [
            "Epoch 1/100: 100%|██████████| 404/404 [00:06<00:00, 59.06it/s]\n"
          ]
        },
        {
          "output_type": "stream",
          "name": "stdout",
          "text": [
            "Epoch 1/100: Loss=0.1530, Accuracy=97.91%\n"
          ]
        },
        {
          "output_type": "stream",
          "name": "stderr",
          "text": [
            "Epoch 2/100: 100%|██████████| 404/404 [00:06<00:00, 62.31it/s]\n"
          ]
        },
        {
          "output_type": "stream",
          "name": "stdout",
          "text": [
            "Epoch 2/100: Loss=0.0234, Accuracy=99.90%\n"
          ]
        },
        {
          "output_type": "stream",
          "name": "stderr",
          "text": [
            "Epoch 3/100: 100%|██████████| 404/404 [00:06<00:00, 65.58it/s]\n"
          ]
        },
        {
          "output_type": "stream",
          "name": "stdout",
          "text": [
            "Epoch 3/100: Loss=0.0119, Accuracy=99.96%\n"
          ]
        },
        {
          "output_type": "stream",
          "name": "stderr",
          "text": [
            "Epoch 4/100: 100%|██████████| 404/404 [00:06<00:00, 63.93it/s]\n"
          ]
        },
        {
          "output_type": "stream",
          "name": "stdout",
          "text": [
            "Epoch 4/100: Loss=0.0075, Accuracy=99.98%\n"
          ]
        },
        {
          "output_type": "stream",
          "name": "stderr",
          "text": [
            "Epoch 5/100: 100%|██████████| 404/404 [00:06<00:00, 66.07it/s]\n"
          ]
        },
        {
          "output_type": "stream",
          "name": "stdout",
          "text": [
            "Epoch 5/100: Loss=0.0051, Accuracy=99.99%\n"
          ]
        },
        {
          "output_type": "stream",
          "name": "stderr",
          "text": [
            "Epoch 6/100: 100%|██████████| 404/404 [00:06<00:00, 64.81it/s]\n"
          ]
        },
        {
          "output_type": "stream",
          "name": "stdout",
          "text": [
            "Epoch 6/100: Loss=0.0038, Accuracy=99.99%\n"
          ]
        },
        {
          "output_type": "stream",
          "name": "stderr",
          "text": [
            "Epoch 7/100: 100%|██████████| 404/404 [00:05<00:00, 67.69it/s]\n"
          ]
        },
        {
          "output_type": "stream",
          "name": "stdout",
          "text": [
            "Epoch 7/100: Loss=0.0028, Accuracy=99.99%\n"
          ]
        },
        {
          "output_type": "stream",
          "name": "stderr",
          "text": [
            "Epoch 8/100: 100%|██████████| 404/404 [00:06<00:00, 65.09it/s]\n"
          ]
        },
        {
          "output_type": "stream",
          "name": "stdout",
          "text": [
            "Epoch 8/100: Loss=0.0022, Accuracy=100.00%\n"
          ]
        },
        {
          "output_type": "stream",
          "name": "stderr",
          "text": [
            "Epoch 9/100: 100%|██████████| 404/404 [00:06<00:00, 67.16it/s]\n"
          ]
        },
        {
          "output_type": "stream",
          "name": "stdout",
          "text": [
            "Epoch 9/100: Loss=0.0018, Accuracy=100.00%\n"
          ]
        },
        {
          "output_type": "stream",
          "name": "stderr",
          "text": [
            "Epoch 10/100: 100%|██████████| 404/404 [00:05<00:00, 69.24it/s]\n"
          ]
        },
        {
          "output_type": "stream",
          "name": "stdout",
          "text": [
            "Epoch 10/100: Loss=0.0014, Accuracy=100.00%\n"
          ]
        },
        {
          "output_type": "stream",
          "name": "stderr",
          "text": [
            "Epoch 11/100: 100%|██████████| 404/404 [00:06<00:00, 66.43it/s]\n"
          ]
        },
        {
          "output_type": "stream",
          "name": "stdout",
          "text": [
            "Epoch 11/100: Loss=0.0012, Accuracy=100.00%\n"
          ]
        },
        {
          "output_type": "stream",
          "name": "stderr",
          "text": [
            "Epoch 12/100: 100%|██████████| 404/404 [00:05<00:00, 68.72it/s]\n"
          ]
        },
        {
          "output_type": "stream",
          "name": "stdout",
          "text": [
            "Epoch 12/100: Loss=0.0009, Accuracy=100.00%\n"
          ]
        },
        {
          "output_type": "stream",
          "name": "stderr",
          "text": [
            "Epoch 13/100: 100%|██████████| 404/404 [00:06<00:00, 65.98it/s]\n"
          ]
        },
        {
          "output_type": "stream",
          "name": "stdout",
          "text": [
            "Epoch 13/100: Loss=0.0008, Accuracy=100.00%\n"
          ]
        },
        {
          "output_type": "stream",
          "name": "stderr",
          "text": [
            "Epoch 14/100: 100%|██████████| 404/404 [00:05<00:00, 68.38it/s]\n"
          ]
        },
        {
          "output_type": "stream",
          "name": "stdout",
          "text": [
            "Epoch 14/100: Loss=0.0006, Accuracy=100.00%\n"
          ]
        },
        {
          "output_type": "stream",
          "name": "stderr",
          "text": [
            "Epoch 15/100: 100%|██████████| 404/404 [00:06<00:00, 65.81it/s]\n"
          ]
        },
        {
          "output_type": "stream",
          "name": "stdout",
          "text": [
            "Epoch 15/100: Loss=0.0005, Accuracy=100.00%\n"
          ]
        },
        {
          "output_type": "stream",
          "name": "stderr",
          "text": [
            "Epoch 16/100: 100%|██████████| 404/404 [00:05<00:00, 69.38it/s]\n"
          ]
        },
        {
          "output_type": "stream",
          "name": "stdout",
          "text": [
            "Epoch 16/100: Loss=0.0005, Accuracy=100.00%\n"
          ]
        },
        {
          "output_type": "stream",
          "name": "stderr",
          "text": [
            "Epoch 17/100: 100%|██████████| 404/404 [00:06<00:00, 66.69it/s]\n"
          ]
        },
        {
          "output_type": "stream",
          "name": "stdout",
          "text": [
            "Epoch 17/100: Loss=0.0004, Accuracy=100.00%\n"
          ]
        },
        {
          "output_type": "stream",
          "name": "stderr",
          "text": [
            "Epoch 18/100: 100%|██████████| 404/404 [00:05<00:00, 68.32it/s]\n"
          ]
        },
        {
          "output_type": "stream",
          "name": "stdout",
          "text": [
            "Epoch 18/100: Loss=0.0003, Accuracy=100.00%\n"
          ]
        },
        {
          "output_type": "stream",
          "name": "stderr",
          "text": [
            "Epoch 19/100: 100%|██████████| 404/404 [00:06<00:00, 66.74it/s]\n"
          ]
        },
        {
          "output_type": "stream",
          "name": "stdout",
          "text": [
            "Epoch 19/100: Loss=0.0003, Accuracy=100.00%\n"
          ]
        },
        {
          "output_type": "stream",
          "name": "stderr",
          "text": [
            "Epoch 20/100: 100%|██████████| 404/404 [00:05<00:00, 68.59it/s]\n"
          ]
        },
        {
          "output_type": "stream",
          "name": "stdout",
          "text": [
            "Epoch 20/100: Loss=0.0002, Accuracy=100.00%\n"
          ]
        },
        {
          "output_type": "stream",
          "name": "stderr",
          "text": [
            "Epoch 21/100: 100%|██████████| 404/404 [00:06<00:00, 65.93it/s]\n"
          ]
        },
        {
          "output_type": "stream",
          "name": "stdout",
          "text": [
            "Epoch 21/100: Loss=0.0002, Accuracy=100.00%\n"
          ]
        },
        {
          "output_type": "stream",
          "name": "stderr",
          "text": [
            "Epoch 22/100: 100%|██████████| 404/404 [00:06<00:00, 67.03it/s]\n"
          ]
        },
        {
          "output_type": "stream",
          "name": "stdout",
          "text": [
            "Epoch 22/100: Loss=0.0002, Accuracy=100.00%\n"
          ]
        },
        {
          "output_type": "stream",
          "name": "stderr",
          "text": [
            "Epoch 23/100: 100%|██████████| 404/404 [00:06<00:00, 65.97it/s]\n"
          ]
        },
        {
          "output_type": "stream",
          "name": "stdout",
          "text": [
            "Epoch 23/100: Loss=0.0001, Accuracy=100.00%\n"
          ]
        },
        {
          "output_type": "stream",
          "name": "stderr",
          "text": [
            "Epoch 24/100: 100%|██████████| 404/404 [00:06<00:00, 66.44it/s]\n"
          ]
        },
        {
          "output_type": "stream",
          "name": "stdout",
          "text": [
            "Epoch 24/100: Loss=0.0001, Accuracy=100.00%\n"
          ]
        },
        {
          "output_type": "stream",
          "name": "stderr",
          "text": [
            "Epoch 25/100: 100%|██████████| 404/404 [00:06<00:00, 65.98it/s]\n"
          ]
        },
        {
          "output_type": "stream",
          "name": "stdout",
          "text": [
            "Epoch 25/100: Loss=0.0001, Accuracy=100.00%\n"
          ]
        },
        {
          "output_type": "stream",
          "name": "stderr",
          "text": [
            "Epoch 26/100: 100%|██████████| 404/404 [00:06<00:00, 65.24it/s]\n"
          ]
        },
        {
          "output_type": "stream",
          "name": "stdout",
          "text": [
            "Epoch 26/100: Loss=0.0001, Accuracy=100.00%\n"
          ]
        },
        {
          "output_type": "stream",
          "name": "stderr",
          "text": [
            "Epoch 27/100: 100%|██████████| 404/404 [00:06<00:00, 67.15it/s]\n"
          ]
        },
        {
          "output_type": "stream",
          "name": "stdout",
          "text": [
            "Epoch 27/100: Loss=0.0001, Accuracy=100.00%\n"
          ]
        },
        {
          "output_type": "stream",
          "name": "stderr",
          "text": [
            "Epoch 28/100: 100%|██████████| 404/404 [00:06<00:00, 65.48it/s]\n"
          ]
        },
        {
          "output_type": "stream",
          "name": "stdout",
          "text": [
            "Epoch 28/100: Loss=0.0001, Accuracy=100.00%\n"
          ]
        },
        {
          "output_type": "stream",
          "name": "stderr",
          "text": [
            "Epoch 29/100: 100%|██████████| 404/404 [00:05<00:00, 67.77it/s]\n"
          ]
        },
        {
          "output_type": "stream",
          "name": "stdout",
          "text": [
            "Epoch 29/100: Loss=0.0001, Accuracy=100.00%\n"
          ]
        },
        {
          "output_type": "stream",
          "name": "stderr",
          "text": [
            "Epoch 30/100: 100%|██████████| 404/404 [00:06<00:00, 66.60it/s]\n"
          ]
        },
        {
          "output_type": "stream",
          "name": "stdout",
          "text": [
            "Epoch 30/100: Loss=0.0000, Accuracy=100.00%\n"
          ]
        },
        {
          "output_type": "stream",
          "name": "stderr",
          "text": [
            "Epoch 31/100: 100%|██████████| 404/404 [00:05<00:00, 69.49it/s]\n"
          ]
        },
        {
          "output_type": "stream",
          "name": "stdout",
          "text": [
            "Epoch 31/100: Loss=0.0000, Accuracy=100.00%\n"
          ]
        },
        {
          "output_type": "stream",
          "name": "stderr",
          "text": [
            "Epoch 32/100: 100%|██████████| 404/404 [00:06<00:00, 65.50it/s]\n"
          ]
        },
        {
          "output_type": "stream",
          "name": "stdout",
          "text": [
            "Epoch 32/100: Loss=0.0000, Accuracy=100.00%\n"
          ]
        },
        {
          "output_type": "stream",
          "name": "stderr",
          "text": [
            "Epoch 33/100: 100%|██████████| 404/404 [00:05<00:00, 67.61it/s]\n"
          ]
        },
        {
          "output_type": "stream",
          "name": "stdout",
          "text": [
            "Epoch 33/100: Loss=0.0000, Accuracy=100.00%\n"
          ]
        },
        {
          "output_type": "stream",
          "name": "stderr",
          "text": [
            "Epoch 34/100: 100%|██████████| 404/404 [00:06<00:00, 65.83it/s]\n"
          ]
        },
        {
          "output_type": "stream",
          "name": "stdout",
          "text": [
            "Epoch 34/100: Loss=0.0000, Accuracy=100.00%\n"
          ]
        },
        {
          "output_type": "stream",
          "name": "stderr",
          "text": [
            "Epoch 35/100: 100%|██████████| 404/404 [00:05<00:00, 69.23it/s]\n"
          ]
        },
        {
          "output_type": "stream",
          "name": "stdout",
          "text": [
            "Epoch 35/100: Loss=0.0000, Accuracy=100.00%\n"
          ]
        },
        {
          "output_type": "stream",
          "name": "stderr",
          "text": [
            "Epoch 36/100: 100%|██████████| 404/404 [00:06<00:00, 65.56it/s]\n"
          ]
        },
        {
          "output_type": "stream",
          "name": "stdout",
          "text": [
            "Epoch 36/100: Loss=0.0000, Accuracy=100.00%\n"
          ]
        },
        {
          "output_type": "stream",
          "name": "stderr",
          "text": [
            "Epoch 37/100: 100%|██████████| 404/404 [00:05<00:00, 69.96it/s]\n"
          ]
        },
        {
          "output_type": "stream",
          "name": "stdout",
          "text": [
            "Epoch 37/100: Loss=0.0000, Accuracy=100.00%\n"
          ]
        },
        {
          "output_type": "stream",
          "name": "stderr",
          "text": [
            "Epoch 38/100: 100%|██████████| 404/404 [00:06<00:00, 65.28it/s]\n"
          ]
        },
        {
          "output_type": "stream",
          "name": "stdout",
          "text": [
            "Epoch 38/100: Loss=0.0000, Accuracy=100.00%\n"
          ]
        },
        {
          "output_type": "stream",
          "name": "stderr",
          "text": [
            "Epoch 39/100: 100%|██████████| 404/404 [00:05<00:00, 69.90it/s]\n"
          ]
        },
        {
          "output_type": "stream",
          "name": "stdout",
          "text": [
            "Epoch 39/100: Loss=0.0000, Accuracy=100.00%\n"
          ]
        },
        {
          "output_type": "stream",
          "name": "stderr",
          "text": [
            "Epoch 40/100: 100%|██████████| 404/404 [00:06<00:00, 67.23it/s]\n"
          ]
        },
        {
          "output_type": "stream",
          "name": "stdout",
          "text": [
            "Epoch 40/100: Loss=0.0000, Accuracy=100.00%\n"
          ]
        },
        {
          "output_type": "stream",
          "name": "stderr",
          "text": [
            "Epoch 41/100: 100%|██████████| 404/404 [00:05<00:00, 69.46it/s]\n"
          ]
        },
        {
          "output_type": "stream",
          "name": "stdout",
          "text": [
            "Epoch 41/100: Loss=0.0000, Accuracy=100.00%\n"
          ]
        },
        {
          "output_type": "stream",
          "name": "stderr",
          "text": [
            "Epoch 42/100: 100%|██████████| 404/404 [00:06<00:00, 66.42it/s]\n"
          ]
        },
        {
          "output_type": "stream",
          "name": "stdout",
          "text": [
            "Epoch 42/100: Loss=0.0000, Accuracy=100.00%\n"
          ]
        },
        {
          "output_type": "stream",
          "name": "stderr",
          "text": [
            "Epoch 43/100: 100%|██████████| 404/404 [00:06<00:00, 66.52it/s]\n"
          ]
        },
        {
          "output_type": "stream",
          "name": "stdout",
          "text": [
            "Epoch 43/100: Loss=0.0000, Accuracy=100.00%\n"
          ]
        },
        {
          "output_type": "stream",
          "name": "stderr",
          "text": [
            "Epoch 44/100: 100%|██████████| 404/404 [00:05<00:00, 68.94it/s]\n"
          ]
        },
        {
          "output_type": "stream",
          "name": "stdout",
          "text": [
            "Epoch 44/100: Loss=0.0000, Accuracy=100.00%\n"
          ]
        },
        {
          "output_type": "stream",
          "name": "stderr",
          "text": [
            "Epoch 45/100: 100%|██████████| 404/404 [00:06<00:00, 66.40it/s]\n"
          ]
        },
        {
          "output_type": "stream",
          "name": "stdout",
          "text": [
            "Epoch 45/100: Loss=0.0000, Accuracy=100.00%\n"
          ]
        },
        {
          "output_type": "stream",
          "name": "stderr",
          "text": [
            "Epoch 46/100: 100%|██████████| 404/404 [00:05<00:00, 68.66it/s]\n"
          ]
        },
        {
          "output_type": "stream",
          "name": "stdout",
          "text": [
            "Epoch 46/100: Loss=0.0000, Accuracy=100.00%\n"
          ]
        },
        {
          "output_type": "stream",
          "name": "stderr",
          "text": [
            "Epoch 47/100: 100%|██████████| 404/404 [00:06<00:00, 66.16it/s]\n"
          ]
        },
        {
          "output_type": "stream",
          "name": "stdout",
          "text": [
            "Epoch 47/100: Loss=0.0000, Accuracy=100.00%\n"
          ]
        },
        {
          "output_type": "stream",
          "name": "stderr",
          "text": [
            "Epoch 48/100: 100%|██████████| 404/404 [00:05<00:00, 68.39it/s]\n"
          ]
        },
        {
          "output_type": "stream",
          "name": "stdout",
          "text": [
            "Epoch 48/100: Loss=0.0000, Accuracy=100.00%\n"
          ]
        },
        {
          "output_type": "stream",
          "name": "stderr",
          "text": [
            "Epoch 49/100: 100%|██████████| 404/404 [00:06<00:00, 66.63it/s]\n"
          ]
        },
        {
          "output_type": "stream",
          "name": "stdout",
          "text": [
            "Epoch 49/100: Loss=0.0000, Accuracy=100.00%\n"
          ]
        },
        {
          "output_type": "stream",
          "name": "stderr",
          "text": [
            "Epoch 50/100: 100%|██████████| 404/404 [00:05<00:00, 69.32it/s]\n"
          ]
        },
        {
          "output_type": "stream",
          "name": "stdout",
          "text": [
            "Epoch 50/100: Loss=0.0000, Accuracy=100.00%\n"
          ]
        },
        {
          "output_type": "stream",
          "name": "stderr",
          "text": [
            "Epoch 51/100: 100%|██████████| 404/404 [00:06<00:00, 67.03it/s]\n"
          ]
        },
        {
          "output_type": "stream",
          "name": "stdout",
          "text": [
            "Epoch 51/100: Loss=0.0000, Accuracy=100.00%\n"
          ]
        },
        {
          "output_type": "stream",
          "name": "stderr",
          "text": [
            "Epoch 52/100: 100%|██████████| 404/404 [00:05<00:00, 68.31it/s]\n"
          ]
        },
        {
          "output_type": "stream",
          "name": "stdout",
          "text": [
            "Epoch 52/100: Loss=0.0000, Accuracy=100.00%\n"
          ]
        },
        {
          "output_type": "stream",
          "name": "stderr",
          "text": [
            "Epoch 53/100: 100%|██████████| 404/404 [00:06<00:00, 64.86it/s]\n"
          ]
        },
        {
          "output_type": "stream",
          "name": "stdout",
          "text": [
            "Epoch 53/100: Loss=0.0000, Accuracy=100.00%\n"
          ]
        },
        {
          "output_type": "stream",
          "name": "stderr",
          "text": [
            "Epoch 54/100: 100%|██████████| 404/404 [00:06<00:00, 66.94it/s]\n"
          ]
        },
        {
          "output_type": "stream",
          "name": "stdout",
          "text": [
            "Epoch 54/100: Loss=0.0000, Accuracy=100.00%\n"
          ]
        },
        {
          "output_type": "stream",
          "name": "stderr",
          "text": [
            "Epoch 55/100: 100%|██████████| 404/404 [00:06<00:00, 65.22it/s]\n"
          ]
        },
        {
          "output_type": "stream",
          "name": "stdout",
          "text": [
            "Epoch 55/100: Loss=0.0000, Accuracy=100.00%\n"
          ]
        },
        {
          "output_type": "stream",
          "name": "stderr",
          "text": [
            "Epoch 56/100: 100%|██████████| 404/404 [00:06<00:00, 67.17it/s]\n"
          ]
        },
        {
          "output_type": "stream",
          "name": "stdout",
          "text": [
            "Epoch 56/100: Loss=0.0000, Accuracy=100.00%\n"
          ]
        },
        {
          "output_type": "stream",
          "name": "stderr",
          "text": [
            "Epoch 57/100: 100%|██████████| 404/404 [00:06<00:00, 65.26it/s]\n"
          ]
        },
        {
          "output_type": "stream",
          "name": "stdout",
          "text": [
            "Epoch 57/100: Loss=0.0000, Accuracy=100.00%\n"
          ]
        },
        {
          "output_type": "stream",
          "name": "stderr",
          "text": [
            "Epoch 58/100: 100%|██████████| 404/404 [00:05<00:00, 68.03it/s]\n"
          ]
        },
        {
          "output_type": "stream",
          "name": "stdout",
          "text": [
            "Epoch 58/100: Loss=0.0000, Accuracy=100.00%\n"
          ]
        },
        {
          "output_type": "stream",
          "name": "stderr",
          "text": [
            "Epoch 59/100: 100%|██████████| 404/404 [00:06<00:00, 66.31it/s]\n"
          ]
        },
        {
          "output_type": "stream",
          "name": "stdout",
          "text": [
            "Epoch 59/100: Loss=0.0000, Accuracy=100.00%\n"
          ]
        },
        {
          "output_type": "stream",
          "name": "stderr",
          "text": [
            "Epoch 60/100: 100%|██████████| 404/404 [00:05<00:00, 68.72it/s]\n"
          ]
        },
        {
          "output_type": "stream",
          "name": "stdout",
          "text": [
            "Epoch 60/100: Loss=0.0000, Accuracy=100.00%\n"
          ]
        },
        {
          "output_type": "stream",
          "name": "stderr",
          "text": [
            "Epoch 61/100: 100%|██████████| 404/404 [00:06<00:00, 66.43it/s]\n"
          ]
        },
        {
          "output_type": "stream",
          "name": "stdout",
          "text": [
            "Epoch 61/100: Loss=0.0000, Accuracy=100.00%\n"
          ]
        },
        {
          "output_type": "stream",
          "name": "stderr",
          "text": [
            "Epoch 62/100: 100%|██████████| 404/404 [00:05<00:00, 69.21it/s]\n"
          ]
        },
        {
          "output_type": "stream",
          "name": "stdout",
          "text": [
            "Epoch 62/100: Loss=0.0000, Accuracy=100.00%\n"
          ]
        },
        {
          "output_type": "stream",
          "name": "stderr",
          "text": [
            "Epoch 63/100: 100%|██████████| 404/404 [00:06<00:00, 66.30it/s]\n"
          ]
        },
        {
          "output_type": "stream",
          "name": "stdout",
          "text": [
            "Epoch 63/100: Loss=0.0000, Accuracy=100.00%\n"
          ]
        },
        {
          "output_type": "stream",
          "name": "stderr",
          "text": [
            "Epoch 64/100: 100%|██████████| 404/404 [00:05<00:00, 68.53it/s]\n"
          ]
        },
        {
          "output_type": "stream",
          "name": "stdout",
          "text": [
            "Epoch 64/100: Loss=0.0000, Accuracy=100.00%\n"
          ]
        },
        {
          "output_type": "stream",
          "name": "stderr",
          "text": [
            "Epoch 65/100: 100%|██████████| 404/404 [00:06<00:00, 66.03it/s]\n"
          ]
        },
        {
          "output_type": "stream",
          "name": "stdout",
          "text": [
            "Epoch 65/100: Loss=0.0000, Accuracy=100.00%\n"
          ]
        },
        {
          "output_type": "stream",
          "name": "stderr",
          "text": [
            "Epoch 66/100: 100%|██████████| 404/404 [00:06<00:00, 66.51it/s]\n"
          ]
        },
        {
          "output_type": "stream",
          "name": "stdout",
          "text": [
            "Epoch 66/100: Loss=0.0000, Accuracy=100.00%\n"
          ]
        },
        {
          "output_type": "stream",
          "name": "stderr",
          "text": [
            "Epoch 67/100: 100%|██████████| 404/404 [00:05<00:00, 69.42it/s]\n"
          ]
        },
        {
          "output_type": "stream",
          "name": "stdout",
          "text": [
            "Epoch 67/100: Loss=0.0000, Accuracy=100.00%\n"
          ]
        },
        {
          "output_type": "stream",
          "name": "stderr",
          "text": [
            "Epoch 68/100: 100%|██████████| 404/404 [00:06<00:00, 66.35it/s]\n"
          ]
        },
        {
          "output_type": "stream",
          "name": "stdout",
          "text": [
            "Epoch 68/100: Loss=0.0000, Accuracy=100.00%\n"
          ]
        },
        {
          "output_type": "stream",
          "name": "stderr",
          "text": [
            "Epoch 69/100: 100%|██████████| 404/404 [00:05<00:00, 68.74it/s]\n"
          ]
        },
        {
          "output_type": "stream",
          "name": "stdout",
          "text": [
            "Epoch 69/100: Loss=0.0000, Accuracy=100.00%\n"
          ]
        },
        {
          "output_type": "stream",
          "name": "stderr",
          "text": [
            "Epoch 70/100: 100%|██████████| 404/404 [00:06<00:00, 65.83it/s]\n"
          ]
        },
        {
          "output_type": "stream",
          "name": "stdout",
          "text": [
            "Epoch 70/100: Loss=0.0000, Accuracy=100.00%\n"
          ]
        },
        {
          "output_type": "stream",
          "name": "stderr",
          "text": [
            "Epoch 71/100: 100%|██████████| 404/404 [00:05<00:00, 70.03it/s]\n"
          ]
        },
        {
          "output_type": "stream",
          "name": "stdout",
          "text": [
            "Epoch 71/100: Loss=0.0000, Accuracy=100.00%\n"
          ]
        },
        {
          "output_type": "stream",
          "name": "stderr",
          "text": [
            "Epoch 72/100: 100%|██████████| 404/404 [00:06<00:00, 67.00it/s]\n"
          ]
        },
        {
          "output_type": "stream",
          "name": "stdout",
          "text": [
            "Epoch 72/100: Loss=0.0000, Accuracy=100.00%\n"
          ]
        },
        {
          "output_type": "stream",
          "name": "stderr",
          "text": [
            "Epoch 73/100: 100%|██████████| 404/404 [00:06<00:00, 67.16it/s]\n"
          ]
        },
        {
          "output_type": "stream",
          "name": "stdout",
          "text": [
            "Epoch 73/100: Loss=0.0000, Accuracy=100.00%\n"
          ]
        },
        {
          "output_type": "stream",
          "name": "stderr",
          "text": [
            "Epoch 74/100: 100%|██████████| 404/404 [00:06<00:00, 66.04it/s]\n"
          ]
        },
        {
          "output_type": "stream",
          "name": "stdout",
          "text": [
            "Epoch 74/100: Loss=0.0000, Accuracy=100.00%\n"
          ]
        },
        {
          "output_type": "stream",
          "name": "stderr",
          "text": [
            "Epoch 75/100: 100%|██████████| 404/404 [00:05<00:00, 69.23it/s]\n"
          ]
        },
        {
          "output_type": "stream",
          "name": "stdout",
          "text": [
            "Epoch 75/100: Loss=0.0000, Accuracy=100.00%\n"
          ]
        },
        {
          "output_type": "stream",
          "name": "stderr",
          "text": [
            "Epoch 76/100: 100%|██████████| 404/404 [00:06<00:00, 66.70it/s]\n"
          ]
        },
        {
          "output_type": "stream",
          "name": "stdout",
          "text": [
            "Epoch 76/100: Loss=0.0000, Accuracy=100.00%\n"
          ]
        },
        {
          "output_type": "stream",
          "name": "stderr",
          "text": [
            "Epoch 77/100: 100%|██████████| 404/404 [00:05<00:00, 68.39it/s]\n"
          ]
        },
        {
          "output_type": "stream",
          "name": "stdout",
          "text": [
            "Epoch 77/100: Loss=0.0000, Accuracy=100.00%\n"
          ]
        },
        {
          "output_type": "stream",
          "name": "stderr",
          "text": [
            "Epoch 78/100: 100%|██████████| 404/404 [00:06<00:00, 65.11it/s]\n"
          ]
        },
        {
          "output_type": "stream",
          "name": "stdout",
          "text": [
            "Epoch 78/100: Loss=0.0000, Accuracy=100.00%\n"
          ]
        },
        {
          "output_type": "stream",
          "name": "stderr",
          "text": [
            "Epoch 79/100: 100%|██████████| 404/404 [00:05<00:00, 67.55it/s]\n"
          ]
        },
        {
          "output_type": "stream",
          "name": "stdout",
          "text": [
            "Epoch 79/100: Loss=0.0000, Accuracy=100.00%\n"
          ]
        },
        {
          "output_type": "stream",
          "name": "stderr",
          "text": [
            "Epoch 80/100: 100%|██████████| 404/404 [00:06<00:00, 64.27it/s]\n"
          ]
        },
        {
          "output_type": "stream",
          "name": "stdout",
          "text": [
            "Epoch 80/100: Loss=0.0000, Accuracy=100.00%\n"
          ]
        },
        {
          "output_type": "stream",
          "name": "stderr",
          "text": [
            "Epoch 81/100: 100%|██████████| 404/404 [00:05<00:00, 67.39it/s]\n"
          ]
        },
        {
          "output_type": "stream",
          "name": "stdout",
          "text": [
            "Epoch 81/100: Loss=0.0000, Accuracy=100.00%\n"
          ]
        },
        {
          "output_type": "stream",
          "name": "stderr",
          "text": [
            "Epoch 82/100: 100%|██████████| 404/404 [00:06<00:00, 66.78it/s]\n"
          ]
        },
        {
          "output_type": "stream",
          "name": "stdout",
          "text": [
            "Epoch 82/100: Loss=0.0000, Accuracy=100.00%\n"
          ]
        },
        {
          "output_type": "stream",
          "name": "stderr",
          "text": [
            "Epoch 83/100: 100%|██████████| 404/404 [00:06<00:00, 66.14it/s]\n"
          ]
        },
        {
          "output_type": "stream",
          "name": "stdout",
          "text": [
            "Epoch 83/100: Loss=0.0000, Accuracy=100.00%\n"
          ]
        },
        {
          "output_type": "stream",
          "name": "stderr",
          "text": [
            "Epoch 84/100: 100%|██████████| 404/404 [00:05<00:00, 67.51it/s]\n"
          ]
        },
        {
          "output_type": "stream",
          "name": "stdout",
          "text": [
            "Epoch 84/100: Loss=0.0000, Accuracy=100.00%\n"
          ]
        },
        {
          "output_type": "stream",
          "name": "stderr",
          "text": [
            "Epoch 85/100: 100%|██████████| 404/404 [00:06<00:00, 67.29it/s]\n"
          ]
        },
        {
          "output_type": "stream",
          "name": "stdout",
          "text": [
            "Epoch 85/100: Loss=0.0000, Accuracy=100.00%\n"
          ]
        },
        {
          "output_type": "stream",
          "name": "stderr",
          "text": [
            "Epoch 86/100: 100%|██████████| 404/404 [00:05<00:00, 68.42it/s]\n"
          ]
        },
        {
          "output_type": "stream",
          "name": "stdout",
          "text": [
            "Epoch 86/100: Loss=0.0000, Accuracy=100.00%\n"
          ]
        },
        {
          "output_type": "stream",
          "name": "stderr",
          "text": [
            "Epoch 87/100: 100%|██████████| 404/404 [00:06<00:00, 67.20it/s]\n"
          ]
        },
        {
          "output_type": "stream",
          "name": "stdout",
          "text": [
            "Epoch 87/100: Loss=0.0000, Accuracy=100.00%\n"
          ]
        },
        {
          "output_type": "stream",
          "name": "stderr",
          "text": [
            "Epoch 88/100: 100%|██████████| 404/404 [00:05<00:00, 67.58it/s]\n"
          ]
        },
        {
          "output_type": "stream",
          "name": "stdout",
          "text": [
            "Epoch 88/100: Loss=0.0000, Accuracy=100.00%\n"
          ]
        },
        {
          "output_type": "stream",
          "name": "stderr",
          "text": [
            "Epoch 89/100: 100%|██████████| 404/404 [00:06<00:00, 66.48it/s]\n"
          ]
        },
        {
          "output_type": "stream",
          "name": "stdout",
          "text": [
            "Epoch 89/100: Loss=0.0000, Accuracy=100.00%\n"
          ]
        },
        {
          "output_type": "stream",
          "name": "stderr",
          "text": [
            "Epoch 90/100: 100%|██████████| 404/404 [00:05<00:00, 67.66it/s]\n"
          ]
        },
        {
          "output_type": "stream",
          "name": "stdout",
          "text": [
            "Epoch 90/100: Loss=0.0000, Accuracy=100.00%\n"
          ]
        },
        {
          "output_type": "stream",
          "name": "stderr",
          "text": [
            "Epoch 91/100: 100%|██████████| 404/404 [00:06<00:00, 66.71it/s]\n"
          ]
        },
        {
          "output_type": "stream",
          "name": "stdout",
          "text": [
            "Epoch 91/100: Loss=0.0000, Accuracy=100.00%\n"
          ]
        },
        {
          "output_type": "stream",
          "name": "stderr",
          "text": [
            "Epoch 92/100: 100%|██████████| 404/404 [00:05<00:00, 68.17it/s]\n"
          ]
        },
        {
          "output_type": "stream",
          "name": "stdout",
          "text": [
            "Epoch 92/100: Loss=0.0000, Accuracy=100.00%\n"
          ]
        },
        {
          "output_type": "stream",
          "name": "stderr",
          "text": [
            "Epoch 93/100: 100%|██████████| 404/404 [00:06<00:00, 67.31it/s]\n"
          ]
        },
        {
          "output_type": "stream",
          "name": "stdout",
          "text": [
            "Epoch 93/100: Loss=0.0000, Accuracy=100.00%\n"
          ]
        },
        {
          "output_type": "stream",
          "name": "stderr",
          "text": [
            "Epoch 94/100: 100%|██████████| 404/404 [00:06<00:00, 67.08it/s]\n"
          ]
        },
        {
          "output_type": "stream",
          "name": "stdout",
          "text": [
            "Epoch 94/100: Loss=0.0000, Accuracy=100.00%\n"
          ]
        },
        {
          "output_type": "stream",
          "name": "stderr",
          "text": [
            "Epoch 95/100: 100%|██████████| 404/404 [00:06<00:00, 66.42it/s]\n"
          ]
        },
        {
          "output_type": "stream",
          "name": "stdout",
          "text": [
            "Epoch 95/100: Loss=0.0000, Accuracy=100.00%\n"
          ]
        },
        {
          "output_type": "stream",
          "name": "stderr",
          "text": [
            "Epoch 96/100: 100%|██████████| 404/404 [00:06<00:00, 66.90it/s]\n"
          ]
        },
        {
          "output_type": "stream",
          "name": "stdout",
          "text": [
            "Epoch 96/100: Loss=0.0000, Accuracy=100.00%\n"
          ]
        },
        {
          "output_type": "stream",
          "name": "stderr",
          "text": [
            "Epoch 97/100: 100%|██████████| 404/404 [00:06<00:00, 65.00it/s]\n"
          ]
        },
        {
          "output_type": "stream",
          "name": "stdout",
          "text": [
            "Epoch 97/100: Loss=0.0000, Accuracy=100.00%\n"
          ]
        },
        {
          "output_type": "stream",
          "name": "stderr",
          "text": [
            "Epoch 98/100: 100%|██████████| 404/404 [00:06<00:00, 64.77it/s]\n"
          ]
        },
        {
          "output_type": "stream",
          "name": "stdout",
          "text": [
            "Epoch 98/100: Loss=0.0000, Accuracy=100.00%\n"
          ]
        },
        {
          "output_type": "stream",
          "name": "stderr",
          "text": [
            "Epoch 99/100: 100%|██████████| 404/404 [00:05<00:00, 69.79it/s]\n"
          ]
        },
        {
          "output_type": "stream",
          "name": "stdout",
          "text": [
            "Epoch 99/100: Loss=0.0000, Accuracy=100.00%\n"
          ]
        },
        {
          "output_type": "stream",
          "name": "stderr",
          "text": [
            "Epoch 100/100: 100%|██████████| 404/404 [00:06<00:00, 65.39it/s]\n"
          ]
        },
        {
          "output_type": "stream",
          "name": "stdout",
          "text": [
            "Epoch 100/100: Loss=0.0000, Accuracy=100.00%\n",
            "shape of linear probe is: d_model = 3072 and options = 6\n",
            "\n",
            "training a linear probe for spatial relations of layer layer_24 for 100 epochs ...\n",
            "\n"
          ]
        },
        {
          "output_type": "stream",
          "name": "stderr",
          "text": [
            "Epoch 1/100: 100%|██████████| 404/404 [00:05<00:00, 68.85it/s]\n"
          ]
        },
        {
          "output_type": "stream",
          "name": "stdout",
          "text": [
            "Epoch 1/100: Loss=0.1340, Accuracy=97.71%\n"
          ]
        },
        {
          "output_type": "stream",
          "name": "stderr",
          "text": [
            "Epoch 2/100: 100%|██████████| 404/404 [00:06<00:00, 65.60it/s]\n"
          ]
        },
        {
          "output_type": "stream",
          "name": "stdout",
          "text": [
            "Epoch 2/100: Loss=0.0181, Accuracy=99.95%\n"
          ]
        },
        {
          "output_type": "stream",
          "name": "stderr",
          "text": [
            "Epoch 3/100: 100%|██████████| 404/404 [00:05<00:00, 68.36it/s]\n"
          ]
        },
        {
          "output_type": "stream",
          "name": "stdout",
          "text": [
            "Epoch 3/100: Loss=0.0089, Accuracy=99.98%\n"
          ]
        },
        {
          "output_type": "stream",
          "name": "stderr",
          "text": [
            "Epoch 4/100: 100%|██████████| 404/404 [00:06<00:00, 66.55it/s]\n"
          ]
        },
        {
          "output_type": "stream",
          "name": "stdout",
          "text": [
            "Epoch 4/100: Loss=0.0056, Accuracy=99.98%\n"
          ]
        },
        {
          "output_type": "stream",
          "name": "stderr",
          "text": [
            "Epoch 5/100: 100%|██████████| 404/404 [00:05<00:00, 69.77it/s]\n"
          ]
        },
        {
          "output_type": "stream",
          "name": "stdout",
          "text": [
            "Epoch 5/100: Loss=0.0038, Accuracy=99.99%\n"
          ]
        },
        {
          "output_type": "stream",
          "name": "stderr",
          "text": [
            "Epoch 6/100: 100%|██████████| 404/404 [00:06<00:00, 66.96it/s]\n"
          ]
        },
        {
          "output_type": "stream",
          "name": "stdout",
          "text": [
            "Epoch 6/100: Loss=0.0028, Accuracy=99.99%\n"
          ]
        },
        {
          "output_type": "stream",
          "name": "stderr",
          "text": [
            "Epoch 7/100: 100%|██████████| 404/404 [00:05<00:00, 69.77it/s]\n"
          ]
        },
        {
          "output_type": "stream",
          "name": "stdout",
          "text": [
            "Epoch 7/100: Loss=0.0021, Accuracy=99.99%\n"
          ]
        },
        {
          "output_type": "stream",
          "name": "stderr",
          "text": [
            "Epoch 8/100: 100%|██████████| 404/404 [00:06<00:00, 66.15it/s]\n"
          ]
        },
        {
          "output_type": "stream",
          "name": "stdout",
          "text": [
            "Epoch 8/100: Loss=0.0016, Accuracy=100.00%\n"
          ]
        },
        {
          "output_type": "stream",
          "name": "stderr",
          "text": [
            "Epoch 9/100: 100%|██████████| 404/404 [00:05<00:00, 69.91it/s]\n"
          ]
        },
        {
          "output_type": "stream",
          "name": "stdout",
          "text": [
            "Epoch 9/100: Loss=0.0013, Accuracy=100.00%\n"
          ]
        },
        {
          "output_type": "stream",
          "name": "stderr",
          "text": [
            "Epoch 10/100: 100%|██████████| 404/404 [00:06<00:00, 67.07it/s]\n"
          ]
        },
        {
          "output_type": "stream",
          "name": "stdout",
          "text": [
            "Epoch 10/100: Loss=0.0010, Accuracy=100.00%\n"
          ]
        },
        {
          "output_type": "stream",
          "name": "stderr",
          "text": [
            "Epoch 11/100: 100%|██████████| 404/404 [00:05<00:00, 67.80it/s]\n"
          ]
        },
        {
          "output_type": "stream",
          "name": "stdout",
          "text": [
            "Epoch 11/100: Loss=0.0009, Accuracy=100.00%\n"
          ]
        },
        {
          "output_type": "stream",
          "name": "stderr",
          "text": [
            "Epoch 12/100: 100%|██████████| 404/404 [00:06<00:00, 66.30it/s]\n"
          ]
        },
        {
          "output_type": "stream",
          "name": "stdout",
          "text": [
            "Epoch 12/100: Loss=0.0007, Accuracy=100.00%\n"
          ]
        },
        {
          "output_type": "stream",
          "name": "stderr",
          "text": [
            "Epoch 13/100: 100%|██████████| 404/404 [00:05<00:00, 69.40it/s]\n"
          ]
        },
        {
          "output_type": "stream",
          "name": "stdout",
          "text": [
            "Epoch 13/100: Loss=0.0006, Accuracy=100.00%\n"
          ]
        },
        {
          "output_type": "stream",
          "name": "stderr",
          "text": [
            "Epoch 14/100: 100%|██████████| 404/404 [00:06<00:00, 67.06it/s]\n"
          ]
        },
        {
          "output_type": "stream",
          "name": "stdout",
          "text": [
            "Epoch 14/100: Loss=0.0005, Accuracy=100.00%\n"
          ]
        },
        {
          "output_type": "stream",
          "name": "stderr",
          "text": [
            "Epoch 15/100: 100%|██████████| 404/404 [00:06<00:00, 67.15it/s]\n"
          ]
        },
        {
          "output_type": "stream",
          "name": "stdout",
          "text": [
            "Epoch 15/100: Loss=0.0004, Accuracy=100.00%\n"
          ]
        },
        {
          "output_type": "stream",
          "name": "stderr",
          "text": [
            "Epoch 16/100: 100%|██████████| 404/404 [00:05<00:00, 68.47it/s]\n"
          ]
        },
        {
          "output_type": "stream",
          "name": "stdout",
          "text": [
            "Epoch 16/100: Loss=0.0003, Accuracy=100.00%\n"
          ]
        },
        {
          "output_type": "stream",
          "name": "stderr",
          "text": [
            "Epoch 17/100: 100%|██████████| 404/404 [00:06<00:00, 66.32it/s]\n"
          ]
        },
        {
          "output_type": "stream",
          "name": "stdout",
          "text": [
            "Epoch 17/100: Loss=0.0003, Accuracy=100.00%\n"
          ]
        },
        {
          "output_type": "stream",
          "name": "stderr",
          "text": [
            "Epoch 18/100: 100%|██████████| 404/404 [00:05<00:00, 69.18it/s]\n"
          ]
        },
        {
          "output_type": "stream",
          "name": "stdout",
          "text": [
            "Epoch 18/100: Loss=0.0002, Accuracy=100.00%\n"
          ]
        },
        {
          "output_type": "stream",
          "name": "stderr",
          "text": [
            "Epoch 19/100: 100%|██████████| 404/404 [00:05<00:00, 67.42it/s]\n"
          ]
        },
        {
          "output_type": "stream",
          "name": "stdout",
          "text": [
            "Epoch 19/100: Loss=0.0002, Accuracy=100.00%\n"
          ]
        },
        {
          "output_type": "stream",
          "name": "stderr",
          "text": [
            "Epoch 20/100: 100%|██████████| 404/404 [00:05<00:00, 68.38it/s]\n"
          ]
        },
        {
          "output_type": "stream",
          "name": "stdout",
          "text": [
            "Epoch 20/100: Loss=0.0002, Accuracy=100.00%\n"
          ]
        },
        {
          "output_type": "stream",
          "name": "stderr",
          "text": [
            "Epoch 21/100: 100%|██████████| 404/404 [00:05<00:00, 67.66it/s]\n"
          ]
        },
        {
          "output_type": "stream",
          "name": "stdout",
          "text": [
            "Epoch 21/100: Loss=0.0001, Accuracy=100.00%\n"
          ]
        },
        {
          "output_type": "stream",
          "name": "stderr",
          "text": [
            "Epoch 22/100: 100%|██████████| 404/404 [00:05<00:00, 69.87it/s]\n"
          ]
        },
        {
          "output_type": "stream",
          "name": "stdout",
          "text": [
            "Epoch 22/100: Loss=0.0001, Accuracy=100.00%\n"
          ]
        },
        {
          "output_type": "stream",
          "name": "stderr",
          "text": [
            "Epoch 23/100: 100%|██████████| 404/404 [00:05<00:00, 68.13it/s]\n"
          ]
        },
        {
          "output_type": "stream",
          "name": "stdout",
          "text": [
            "Epoch 23/100: Loss=0.0001, Accuracy=100.00%\n"
          ]
        },
        {
          "output_type": "stream",
          "name": "stderr",
          "text": [
            "Epoch 24/100: 100%|██████████| 404/404 [00:05<00:00, 69.51it/s]\n"
          ]
        },
        {
          "output_type": "stream",
          "name": "stdout",
          "text": [
            "Epoch 24/100: Loss=0.0001, Accuracy=100.00%\n"
          ]
        },
        {
          "output_type": "stream",
          "name": "stderr",
          "text": [
            "Epoch 25/100: 100%|██████████| 404/404 [00:05<00:00, 67.79it/s]\n"
          ]
        },
        {
          "output_type": "stream",
          "name": "stdout",
          "text": [
            "Epoch 25/100: Loss=0.0001, Accuracy=100.00%\n"
          ]
        },
        {
          "output_type": "stream",
          "name": "stderr",
          "text": [
            "Epoch 26/100: 100%|██████████| 404/404 [00:05<00:00, 70.72it/s]\n"
          ]
        },
        {
          "output_type": "stream",
          "name": "stdout",
          "text": [
            "Epoch 26/100: Loss=0.0001, Accuracy=100.00%\n"
          ]
        },
        {
          "output_type": "stream",
          "name": "stderr",
          "text": [
            "Epoch 27/100: 100%|██████████| 404/404 [00:05<00:00, 68.35it/s]\n"
          ]
        },
        {
          "output_type": "stream",
          "name": "stdout",
          "text": [
            "Epoch 27/100: Loss=0.0001, Accuracy=100.00%\n"
          ]
        },
        {
          "output_type": "stream",
          "name": "stderr",
          "text": [
            "Epoch 28/100: 100%|██████████| 404/404 [00:05<00:00, 70.40it/s]\n"
          ]
        },
        {
          "output_type": "stream",
          "name": "stdout",
          "text": [
            "Epoch 28/100: Loss=0.0000, Accuracy=100.00%\n"
          ]
        },
        {
          "output_type": "stream",
          "name": "stderr",
          "text": [
            "Epoch 29/100: 100%|██████████| 404/404 [00:05<00:00, 67.34it/s]\n"
          ]
        },
        {
          "output_type": "stream",
          "name": "stdout",
          "text": [
            "Epoch 29/100: Loss=0.0000, Accuracy=100.00%\n"
          ]
        },
        {
          "output_type": "stream",
          "name": "stderr",
          "text": [
            "Epoch 30/100: 100%|██████████| 404/404 [00:05<00:00, 68.24it/s]\n"
          ]
        },
        {
          "output_type": "stream",
          "name": "stdout",
          "text": [
            "Epoch 30/100: Loss=0.0000, Accuracy=100.00%\n"
          ]
        },
        {
          "output_type": "stream",
          "name": "stderr",
          "text": [
            "Epoch 31/100: 100%|██████████| 404/404 [00:06<00:00, 66.84it/s]\n"
          ]
        },
        {
          "output_type": "stream",
          "name": "stdout",
          "text": [
            "Epoch 31/100: Loss=0.0000, Accuracy=100.00%\n"
          ]
        },
        {
          "output_type": "stream",
          "name": "stderr",
          "text": [
            "Epoch 32/100: 100%|██████████| 404/404 [00:06<00:00, 66.83it/s]\n"
          ]
        },
        {
          "output_type": "stream",
          "name": "stdout",
          "text": [
            "Epoch 32/100: Loss=0.0000, Accuracy=100.00%\n"
          ]
        },
        {
          "output_type": "stream",
          "name": "stderr",
          "text": [
            "Epoch 33/100: 100%|██████████| 404/404 [00:05<00:00, 69.46it/s]\n"
          ]
        },
        {
          "output_type": "stream",
          "name": "stdout",
          "text": [
            "Epoch 33/100: Loss=0.0000, Accuracy=100.00%\n"
          ]
        },
        {
          "output_type": "stream",
          "name": "stderr",
          "text": [
            "Epoch 34/100: 100%|██████████| 404/404 [00:05<00:00, 68.03it/s]\n"
          ]
        },
        {
          "output_type": "stream",
          "name": "stdout",
          "text": [
            "Epoch 34/100: Loss=0.0000, Accuracy=100.00%\n"
          ]
        },
        {
          "output_type": "stream",
          "name": "stderr",
          "text": [
            "Epoch 35/100: 100%|██████████| 404/404 [00:05<00:00, 70.54it/s]\n"
          ]
        },
        {
          "output_type": "stream",
          "name": "stdout",
          "text": [
            "Epoch 35/100: Loss=0.0000, Accuracy=100.00%\n"
          ]
        },
        {
          "output_type": "stream",
          "name": "stderr",
          "text": [
            "Epoch 36/100: 100%|██████████| 404/404 [00:05<00:00, 67.96it/s]\n"
          ]
        },
        {
          "output_type": "stream",
          "name": "stdout",
          "text": [
            "Epoch 36/100: Loss=0.0000, Accuracy=100.00%\n"
          ]
        },
        {
          "output_type": "stream",
          "name": "stderr",
          "text": [
            "Epoch 37/100: 100%|██████████| 404/404 [00:05<00:00, 70.09it/s]\n"
          ]
        },
        {
          "output_type": "stream",
          "name": "stdout",
          "text": [
            "Epoch 37/100: Loss=0.0000, Accuracy=100.00%\n"
          ]
        },
        {
          "output_type": "stream",
          "name": "stderr",
          "text": [
            "Epoch 38/100: 100%|██████████| 404/404 [00:06<00:00, 67.19it/s]\n"
          ]
        },
        {
          "output_type": "stream",
          "name": "stdout",
          "text": [
            "Epoch 38/100: Loss=0.0000, Accuracy=100.00%\n"
          ]
        },
        {
          "output_type": "stream",
          "name": "stderr",
          "text": [
            "Epoch 39/100: 100%|██████████| 404/404 [00:05<00:00, 70.38it/s]\n"
          ]
        },
        {
          "output_type": "stream",
          "name": "stdout",
          "text": [
            "Epoch 39/100: Loss=0.0000, Accuracy=100.00%\n"
          ]
        },
        {
          "output_type": "stream",
          "name": "stderr",
          "text": [
            "Epoch 40/100: 100%|██████████| 404/404 [00:06<00:00, 66.63it/s]\n"
          ]
        },
        {
          "output_type": "stream",
          "name": "stdout",
          "text": [
            "Epoch 40/100: Loss=0.0000, Accuracy=100.00%\n"
          ]
        },
        {
          "output_type": "stream",
          "name": "stderr",
          "text": [
            "Epoch 41/100: 100%|██████████| 404/404 [00:05<00:00, 70.34it/s]\n"
          ]
        },
        {
          "output_type": "stream",
          "name": "stdout",
          "text": [
            "Epoch 41/100: Loss=0.0000, Accuracy=100.00%\n"
          ]
        },
        {
          "output_type": "stream",
          "name": "stderr",
          "text": [
            "Epoch 42/100: 100%|██████████| 404/404 [00:05<00:00, 67.69it/s]\n"
          ]
        },
        {
          "output_type": "stream",
          "name": "stdout",
          "text": [
            "Epoch 42/100: Loss=0.0000, Accuracy=100.00%\n"
          ]
        },
        {
          "output_type": "stream",
          "name": "stderr",
          "text": [
            "Epoch 43/100: 100%|██████████| 404/404 [00:05<00:00, 69.59it/s]\n"
          ]
        },
        {
          "output_type": "stream",
          "name": "stdout",
          "text": [
            "Epoch 43/100: Loss=0.0000, Accuracy=100.00%\n"
          ]
        },
        {
          "output_type": "stream",
          "name": "stderr",
          "text": [
            "Epoch 44/100: 100%|██████████| 404/404 [00:05<00:00, 67.47it/s]\n"
          ]
        },
        {
          "output_type": "stream",
          "name": "stdout",
          "text": [
            "Epoch 44/100: Loss=0.0000, Accuracy=100.00%\n"
          ]
        },
        {
          "output_type": "stream",
          "name": "stderr",
          "text": [
            "Epoch 45/100: 100%|██████████| 404/404 [00:05<00:00, 69.70it/s]\n"
          ]
        },
        {
          "output_type": "stream",
          "name": "stdout",
          "text": [
            "Epoch 45/100: Loss=0.0000, Accuracy=100.00%\n"
          ]
        },
        {
          "output_type": "stream",
          "name": "stderr",
          "text": [
            "Epoch 46/100: 100%|██████████| 404/404 [00:06<00:00, 67.31it/s]\n"
          ]
        },
        {
          "output_type": "stream",
          "name": "stdout",
          "text": [
            "Epoch 46/100: Loss=0.0000, Accuracy=100.00%\n"
          ]
        },
        {
          "output_type": "stream",
          "name": "stderr",
          "text": [
            "Epoch 47/100: 100%|██████████| 404/404 [00:05<00:00, 69.51it/s]\n"
          ]
        },
        {
          "output_type": "stream",
          "name": "stdout",
          "text": [
            "Epoch 47/100: Loss=0.0000, Accuracy=100.00%\n"
          ]
        },
        {
          "output_type": "stream",
          "name": "stderr",
          "text": [
            "Epoch 48/100: 100%|██████████| 404/404 [00:05<00:00, 67.77it/s]\n"
          ]
        },
        {
          "output_type": "stream",
          "name": "stdout",
          "text": [
            "Epoch 48/100: Loss=0.0000, Accuracy=100.00%\n"
          ]
        },
        {
          "output_type": "stream",
          "name": "stderr",
          "text": [
            "Epoch 49/100: 100%|██████████| 404/404 [00:05<00:00, 68.08it/s]\n"
          ]
        },
        {
          "output_type": "stream",
          "name": "stdout",
          "text": [
            "Epoch 49/100: Loss=0.0000, Accuracy=100.00%\n"
          ]
        },
        {
          "output_type": "stream",
          "name": "stderr",
          "text": [
            "Epoch 50/100: 100%|██████████| 404/404 [00:05<00:00, 69.97it/s]\n"
          ]
        },
        {
          "output_type": "stream",
          "name": "stdout",
          "text": [
            "Epoch 50/100: Loss=0.0000, Accuracy=100.00%\n"
          ]
        },
        {
          "output_type": "stream",
          "name": "stderr",
          "text": [
            "Epoch 51/100: 100%|██████████| 404/404 [00:05<00:00, 67.68it/s]\n"
          ]
        },
        {
          "output_type": "stream",
          "name": "stdout",
          "text": [
            "Epoch 51/100: Loss=0.0000, Accuracy=100.00%\n"
          ]
        },
        {
          "output_type": "stream",
          "name": "stderr",
          "text": [
            "Epoch 52/100: 100%|██████████| 404/404 [00:05<00:00, 69.77it/s]\n"
          ]
        },
        {
          "output_type": "stream",
          "name": "stdout",
          "text": [
            "Epoch 52/100: Loss=0.0000, Accuracy=100.00%\n"
          ]
        },
        {
          "output_type": "stream",
          "name": "stderr",
          "text": [
            "Epoch 53/100: 100%|██████████| 404/404 [00:05<00:00, 67.49it/s]\n"
          ]
        },
        {
          "output_type": "stream",
          "name": "stdout",
          "text": [
            "Epoch 53/100: Loss=0.0000, Accuracy=100.00%\n"
          ]
        },
        {
          "output_type": "stream",
          "name": "stderr",
          "text": [
            "Epoch 54/100: 100%|██████████| 404/404 [00:05<00:00, 70.39it/s]\n"
          ]
        },
        {
          "output_type": "stream",
          "name": "stdout",
          "text": [
            "Epoch 54/100: Loss=0.0000, Accuracy=100.00%\n"
          ]
        },
        {
          "output_type": "stream",
          "name": "stderr",
          "text": [
            "Epoch 55/100: 100%|██████████| 404/404 [00:06<00:00, 66.71it/s]\n"
          ]
        },
        {
          "output_type": "stream",
          "name": "stdout",
          "text": [
            "Epoch 55/100: Loss=0.0000, Accuracy=100.00%\n"
          ]
        },
        {
          "output_type": "stream",
          "name": "stderr",
          "text": [
            "Epoch 56/100: 100%|██████████| 404/404 [00:05<00:00, 69.24it/s]\n"
          ]
        },
        {
          "output_type": "stream",
          "name": "stdout",
          "text": [
            "Epoch 56/100: Loss=0.0000, Accuracy=100.00%\n"
          ]
        },
        {
          "output_type": "stream",
          "name": "stderr",
          "text": [
            "Epoch 57/100: 100%|██████████| 404/404 [00:06<00:00, 66.59it/s]\n"
          ]
        },
        {
          "output_type": "stream",
          "name": "stdout",
          "text": [
            "Epoch 57/100: Loss=0.0000, Accuracy=100.00%\n"
          ]
        },
        {
          "output_type": "stream",
          "name": "stderr",
          "text": [
            "Epoch 58/100: 100%|██████████| 404/404 [00:05<00:00, 69.04it/s]\n"
          ]
        },
        {
          "output_type": "stream",
          "name": "stdout",
          "text": [
            "Epoch 58/100: Loss=0.0000, Accuracy=100.00%\n"
          ]
        },
        {
          "output_type": "stream",
          "name": "stderr",
          "text": [
            "Epoch 59/100: 100%|██████████| 404/404 [00:05<00:00, 67.40it/s]\n"
          ]
        },
        {
          "output_type": "stream",
          "name": "stdout",
          "text": [
            "Epoch 59/100: Loss=0.0000, Accuracy=100.00%\n"
          ]
        },
        {
          "output_type": "stream",
          "name": "stderr",
          "text": [
            "Epoch 60/100: 100%|██████████| 404/404 [00:05<00:00, 68.53it/s]\n"
          ]
        },
        {
          "output_type": "stream",
          "name": "stdout",
          "text": [
            "Epoch 60/100: Loss=0.0000, Accuracy=100.00%\n"
          ]
        },
        {
          "output_type": "stream",
          "name": "stderr",
          "text": [
            "Epoch 61/100: 100%|██████████| 404/404 [00:06<00:00, 66.18it/s]\n"
          ]
        },
        {
          "output_type": "stream",
          "name": "stdout",
          "text": [
            "Epoch 61/100: Loss=0.0000, Accuracy=100.00%\n"
          ]
        },
        {
          "output_type": "stream",
          "name": "stderr",
          "text": [
            "Epoch 62/100: 100%|██████████| 404/404 [00:05<00:00, 69.67it/s]\n"
          ]
        },
        {
          "output_type": "stream",
          "name": "stdout",
          "text": [
            "Epoch 62/100: Loss=0.0000, Accuracy=100.00%\n"
          ]
        },
        {
          "output_type": "stream",
          "name": "stderr",
          "text": [
            "Epoch 63/100: 100%|██████████| 404/404 [00:06<00:00, 66.07it/s]\n"
          ]
        },
        {
          "output_type": "stream",
          "name": "stdout",
          "text": [
            "Epoch 63/100: Loss=0.0000, Accuracy=100.00%\n"
          ]
        },
        {
          "output_type": "stream",
          "name": "stderr",
          "text": [
            "Epoch 64/100: 100%|██████████| 404/404 [00:06<00:00, 66.52it/s]\n"
          ]
        },
        {
          "output_type": "stream",
          "name": "stdout",
          "text": [
            "Epoch 64/100: Loss=0.0000, Accuracy=100.00%\n"
          ]
        },
        {
          "output_type": "stream",
          "name": "stderr",
          "text": [
            "Epoch 65/100: 100%|██████████| 404/404 [00:05<00:00, 67.80it/s]\n"
          ]
        },
        {
          "output_type": "stream",
          "name": "stdout",
          "text": [
            "Epoch 65/100: Loss=0.0000, Accuracy=100.00%\n"
          ]
        },
        {
          "output_type": "stream",
          "name": "stderr",
          "text": [
            "Epoch 66/100: 100%|██████████| 404/404 [00:06<00:00, 66.85it/s]\n"
          ]
        },
        {
          "output_type": "stream",
          "name": "stdout",
          "text": [
            "Epoch 66/100: Loss=0.0000, Accuracy=100.00%\n"
          ]
        },
        {
          "output_type": "stream",
          "name": "stderr",
          "text": [
            "Epoch 67/100: 100%|██████████| 404/404 [00:05<00:00, 69.25it/s]\n"
          ]
        },
        {
          "output_type": "stream",
          "name": "stdout",
          "text": [
            "Epoch 67/100: Loss=0.0000, Accuracy=100.00%\n"
          ]
        },
        {
          "output_type": "stream",
          "name": "stderr",
          "text": [
            "Epoch 68/100: 100%|██████████| 404/404 [00:06<00:00, 66.63it/s]\n"
          ]
        },
        {
          "output_type": "stream",
          "name": "stdout",
          "text": [
            "Epoch 68/100: Loss=0.0000, Accuracy=100.00%\n"
          ]
        },
        {
          "output_type": "stream",
          "name": "stderr",
          "text": [
            "Epoch 69/100: 100%|██████████| 404/404 [00:05<00:00, 68.78it/s]\n"
          ]
        },
        {
          "output_type": "stream",
          "name": "stdout",
          "text": [
            "Epoch 69/100: Loss=0.0000, Accuracy=100.00%\n"
          ]
        },
        {
          "output_type": "stream",
          "name": "stderr",
          "text": [
            "Epoch 70/100: 100%|██████████| 404/404 [00:06<00:00, 66.35it/s]\n"
          ]
        },
        {
          "output_type": "stream",
          "name": "stdout",
          "text": [
            "Epoch 70/100: Loss=0.0000, Accuracy=100.00%\n"
          ]
        },
        {
          "output_type": "stream",
          "name": "stderr",
          "text": [
            "Epoch 71/100: 100%|██████████| 404/404 [00:05<00:00, 67.65it/s]\n"
          ]
        },
        {
          "output_type": "stream",
          "name": "stdout",
          "text": [
            "Epoch 71/100: Loss=0.0000, Accuracy=100.00%\n"
          ]
        },
        {
          "output_type": "stream",
          "name": "stderr",
          "text": [
            "Epoch 72/100: 100%|██████████| 404/404 [00:05<00:00, 67.81it/s]\n"
          ]
        },
        {
          "output_type": "stream",
          "name": "stdout",
          "text": [
            "Epoch 72/100: Loss=0.0000, Accuracy=100.00%\n"
          ]
        },
        {
          "output_type": "stream",
          "name": "stderr",
          "text": [
            "Epoch 73/100: 100%|██████████| 404/404 [00:05<00:00, 68.65it/s]\n"
          ]
        },
        {
          "output_type": "stream",
          "name": "stdout",
          "text": [
            "Epoch 73/100: Loss=0.0000, Accuracy=100.00%\n"
          ]
        },
        {
          "output_type": "stream",
          "name": "stderr",
          "text": [
            "Epoch 74/100: 100%|██████████| 404/404 [00:06<00:00, 66.80it/s]\n"
          ]
        },
        {
          "output_type": "stream",
          "name": "stdout",
          "text": [
            "Epoch 74/100: Loss=0.0000, Accuracy=100.00%\n"
          ]
        },
        {
          "output_type": "stream",
          "name": "stderr",
          "text": [
            "Epoch 75/100: 100%|██████████| 404/404 [00:05<00:00, 67.98it/s]\n"
          ]
        },
        {
          "output_type": "stream",
          "name": "stdout",
          "text": [
            "Epoch 75/100: Loss=0.0000, Accuracy=100.00%\n"
          ]
        },
        {
          "output_type": "stream",
          "name": "stderr",
          "text": [
            "Epoch 76/100: 100%|██████████| 404/404 [00:06<00:00, 66.50it/s]\n"
          ]
        },
        {
          "output_type": "stream",
          "name": "stdout",
          "text": [
            "Epoch 76/100: Loss=0.0000, Accuracy=100.00%\n"
          ]
        },
        {
          "output_type": "stream",
          "name": "stderr",
          "text": [
            "Epoch 77/100: 100%|██████████| 404/404 [00:05<00:00, 68.99it/s]\n"
          ]
        },
        {
          "output_type": "stream",
          "name": "stdout",
          "text": [
            "Epoch 77/100: Loss=0.0000, Accuracy=100.00%\n"
          ]
        },
        {
          "output_type": "stream",
          "name": "stderr",
          "text": [
            "Epoch 78/100: 100%|██████████| 404/404 [00:06<00:00, 66.68it/s]\n"
          ]
        },
        {
          "output_type": "stream",
          "name": "stdout",
          "text": [
            "Epoch 78/100: Loss=0.0000, Accuracy=100.00%\n"
          ]
        },
        {
          "output_type": "stream",
          "name": "stderr",
          "text": [
            "Epoch 79/100: 100%|██████████| 404/404 [00:06<00:00, 67.32it/s]\n"
          ]
        },
        {
          "output_type": "stream",
          "name": "stdout",
          "text": [
            "Epoch 79/100: Loss=0.0000, Accuracy=100.00%\n"
          ]
        },
        {
          "output_type": "stream",
          "name": "stderr",
          "text": [
            "Epoch 80/100: 100%|██████████| 404/404 [00:06<00:00, 66.35it/s]\n"
          ]
        },
        {
          "output_type": "stream",
          "name": "stdout",
          "text": [
            "Epoch 80/100: Loss=0.0000, Accuracy=100.00%\n"
          ]
        },
        {
          "output_type": "stream",
          "name": "stderr",
          "text": [
            "Epoch 81/100: 100%|██████████| 404/404 [00:06<00:00, 66.85it/s]\n"
          ]
        },
        {
          "output_type": "stream",
          "name": "stdout",
          "text": [
            "Epoch 81/100: Loss=0.0000, Accuracy=100.00%\n"
          ]
        },
        {
          "output_type": "stream",
          "name": "stderr",
          "text": [
            "Epoch 82/100: 100%|██████████| 404/404 [00:05<00:00, 69.07it/s]\n"
          ]
        },
        {
          "output_type": "stream",
          "name": "stdout",
          "text": [
            "Epoch 82/100: Loss=0.0000, Accuracy=100.00%\n"
          ]
        },
        {
          "output_type": "stream",
          "name": "stderr",
          "text": [
            "Epoch 83/100: 100%|██████████| 404/404 [00:06<00:00, 66.58it/s]\n"
          ]
        },
        {
          "output_type": "stream",
          "name": "stdout",
          "text": [
            "Epoch 83/100: Loss=0.0000, Accuracy=100.00%\n"
          ]
        },
        {
          "output_type": "stream",
          "name": "stderr",
          "text": [
            "Epoch 84/100: 100%|██████████| 404/404 [00:05<00:00, 68.82it/s]\n"
          ]
        },
        {
          "output_type": "stream",
          "name": "stdout",
          "text": [
            "Epoch 84/100: Loss=0.0000, Accuracy=100.00%\n"
          ]
        },
        {
          "output_type": "stream",
          "name": "stderr",
          "text": [
            "Epoch 85/100: 100%|██████████| 404/404 [00:06<00:00, 65.40it/s]\n"
          ]
        },
        {
          "output_type": "stream",
          "name": "stdout",
          "text": [
            "Epoch 85/100: Loss=0.0000, Accuracy=100.00%\n"
          ]
        },
        {
          "output_type": "stream",
          "name": "stderr",
          "text": [
            "Epoch 86/100: 100%|██████████| 404/404 [00:05<00:00, 68.87it/s]\n"
          ]
        },
        {
          "output_type": "stream",
          "name": "stdout",
          "text": [
            "Epoch 86/100: Loss=0.0000, Accuracy=100.00%\n"
          ]
        },
        {
          "output_type": "stream",
          "name": "stderr",
          "text": [
            "Epoch 87/100: 100%|██████████| 404/404 [00:06<00:00, 66.88it/s]\n"
          ]
        },
        {
          "output_type": "stream",
          "name": "stdout",
          "text": [
            "Epoch 87/100: Loss=0.0000, Accuracy=100.00%\n"
          ]
        },
        {
          "output_type": "stream",
          "name": "stderr",
          "text": [
            "Epoch 88/100: 100%|██████████| 404/404 [00:05<00:00, 69.22it/s]\n"
          ]
        },
        {
          "output_type": "stream",
          "name": "stdout",
          "text": [
            "Epoch 88/100: Loss=0.0000, Accuracy=100.00%\n"
          ]
        },
        {
          "output_type": "stream",
          "name": "stderr",
          "text": [
            "Epoch 89/100: 100%|██████████| 404/404 [00:06<00:00, 66.48it/s]\n"
          ]
        },
        {
          "output_type": "stream",
          "name": "stdout",
          "text": [
            "Epoch 89/100: Loss=0.0000, Accuracy=100.00%\n"
          ]
        },
        {
          "output_type": "stream",
          "name": "stderr",
          "text": [
            "Epoch 90/100: 100%|██████████| 404/404 [00:05<00:00, 68.36it/s]\n"
          ]
        },
        {
          "output_type": "stream",
          "name": "stdout",
          "text": [
            "Epoch 90/100: Loss=0.0000, Accuracy=100.00%\n"
          ]
        },
        {
          "output_type": "stream",
          "name": "stderr",
          "text": [
            "Epoch 91/100: 100%|██████████| 404/404 [00:06<00:00, 67.11it/s]\n"
          ]
        },
        {
          "output_type": "stream",
          "name": "stdout",
          "text": [
            "Epoch 91/100: Loss=0.0000, Accuracy=100.00%\n"
          ]
        },
        {
          "output_type": "stream",
          "name": "stderr",
          "text": [
            "Epoch 92/100: 100%|██████████| 404/404 [00:05<00:00, 70.29it/s]\n"
          ]
        },
        {
          "output_type": "stream",
          "name": "stdout",
          "text": [
            "Epoch 92/100: Loss=0.0000, Accuracy=100.00%\n"
          ]
        },
        {
          "output_type": "stream",
          "name": "stderr",
          "text": [
            "Epoch 93/100: 100%|██████████| 404/404 [00:06<00:00, 66.78it/s]\n"
          ]
        },
        {
          "output_type": "stream",
          "name": "stdout",
          "text": [
            "Epoch 93/100: Loss=0.0000, Accuracy=100.00%\n"
          ]
        },
        {
          "output_type": "stream",
          "name": "stderr",
          "text": [
            "Epoch 94/100: 100%|██████████| 404/404 [00:05<00:00, 68.92it/s]\n"
          ]
        },
        {
          "output_type": "stream",
          "name": "stdout",
          "text": [
            "Epoch 94/100: Loss=0.0000, Accuracy=100.00%\n"
          ]
        },
        {
          "output_type": "stream",
          "name": "stderr",
          "text": [
            "Epoch 95/100: 100%|██████████| 404/404 [00:05<00:00, 67.46it/s]\n"
          ]
        },
        {
          "output_type": "stream",
          "name": "stdout",
          "text": [
            "Epoch 95/100: Loss=0.0000, Accuracy=100.00%\n"
          ]
        },
        {
          "output_type": "stream",
          "name": "stderr",
          "text": [
            "Epoch 96/100: 100%|██████████| 404/404 [00:05<00:00, 69.44it/s]\n"
          ]
        },
        {
          "output_type": "stream",
          "name": "stdout",
          "text": [
            "Epoch 96/100: Loss=0.0000, Accuracy=100.00%\n"
          ]
        },
        {
          "output_type": "stream",
          "name": "stderr",
          "text": [
            "Epoch 97/100: 100%|██████████| 404/404 [00:06<00:00, 66.62it/s]\n"
          ]
        },
        {
          "output_type": "stream",
          "name": "stdout",
          "text": [
            "Epoch 97/100: Loss=0.0000, Accuracy=100.00%\n"
          ]
        },
        {
          "output_type": "stream",
          "name": "stderr",
          "text": [
            "Epoch 98/100: 100%|██████████| 404/404 [00:05<00:00, 69.42it/s]\n"
          ]
        },
        {
          "output_type": "stream",
          "name": "stdout",
          "text": [
            "Epoch 98/100: Loss=0.0000, Accuracy=100.00%\n"
          ]
        },
        {
          "output_type": "stream",
          "name": "stderr",
          "text": [
            "Epoch 99/100: 100%|██████████| 404/404 [00:05<00:00, 67.40it/s]\n"
          ]
        },
        {
          "output_type": "stream",
          "name": "stdout",
          "text": [
            "Epoch 99/100: Loss=0.0000, Accuracy=100.00%\n"
          ]
        },
        {
          "output_type": "stream",
          "name": "stderr",
          "text": [
            "Epoch 100/100: 100%|██████████| 404/404 [00:05<00:00, 68.58it/s]"
          ]
        },
        {
          "output_type": "stream",
          "name": "stdout",
          "text": [
            "Epoch 100/100: Loss=0.0000, Accuracy=100.00%\n"
          ]
        },
        {
          "output_type": "stream",
          "name": "stderr",
          "text": [
            "\n"
          ]
        }
      ]
    },
    {
      "cell_type": "markdown",
      "source": [
        "## evaluate trained linear probes"
      ],
      "metadata": {
        "id": "MCbXNo639UPL"
      }
    },
    {
      "cell_type": "code",
      "source": [
        "# report accuracy\n",
        "accuracy = {}\n",
        "report = {}\n",
        "\n",
        "for k in layers_list:\n",
        "    layer_name = f\"layer_{k}\"\n",
        "    accuracy[layer_name], report[layer_name] = evaluate_probe(trainers[layer_name].linear_probe, dataloaders[layer_name][\"test\"][\"relation\"], device=device)\n",
        "    print(f\"Linear probe accuracy: {accuracy[layer_name]:.4f}\" if VERBOSE else \"\")"
      ],
      "metadata": {
        "colab": {
          "base_uri": "https://localhost:8080/"
        },
        "id": "SBSA0Ejj9XTj",
        "outputId": "cd75a3b5-e5fb-44e0-ff94-c59736495ea8"
      },
      "execution_count": null,
      "outputs": [
        {
          "output_type": "stream",
          "name": "stdout",
          "text": [
            "Linear probe accuracy: 1.0000\n",
            "Linear probe accuracy: 1.0000\n"
          ]
        }
      ]
    },
    {
      "cell_type": "code",
      "source": [
        "# extract the directions of each spatial relation as a Dict\n",
        "directions = {}\n",
        "\n",
        "for k in layers_list:\n",
        "    layer_name = f\"layer_{k}\"\n",
        "    directions[layer_name] = get_directions(trainers[layer_name].linear_probe, options, mappings, verbose=VERBOSE)  # each direction has shape (d_model,)"
      ],
      "metadata": {
        "colab": {
          "base_uri": "https://localhost:8080/"
        },
        "id": "Zk5XgYcMGQs2",
        "outputId": "8994fd3f-6b83-4605-c21d-bd57c03a0759"
      },
      "execution_count": null,
      "outputs": [
        {
          "output_type": "stream",
          "name": "stdout",
          "text": [
            "shape of direction above vector (d_model,) = (3072,)\n",
            "shape of direction behind vector (d_model,) = (3072,)\n",
            "shape of direction below vector (d_model,) = (3072,)\n",
            "shape of direction in front of vector (d_model,) = (3072,)\n",
            "shape of direction to the left of vector (d_model,) = (3072,)\n",
            "shape of direction to the right of vector (d_model,) = (3072,)\n",
            "shape of direction above vector (d_model,) = (3072,)\n",
            "shape of direction behind vector (d_model,) = (3072,)\n",
            "shape of direction below vector (d_model,) = (3072,)\n",
            "shape of direction in front of vector (d_model,) = (3072,)\n",
            "shape of direction to the left of vector (d_model,) = (3072,)\n",
            "shape of direction to the right of vector (d_model,) = (3072,)\n"
          ]
        }
      ]
    },
    {
      "cell_type": "code",
      "source": [
        "# =================================\n",
        "# function: compute inverse metrics\n",
        "# =================================\n",
        "def compute_inverse_metrics(vec1: np.ndarray, vec2: np.ndarray) -> Tuple[float, float, float]:\n",
        "    \"\"\"Compute cosine similarity, Euclidean distance, and angle (in degrees) between vec1 and -vec2.\"\"\"\n",
        "    cosine_sim = cosine_similarity([vec1], [-vec2])[0][0]\n",
        "    euclidean_dist = np.linalg.norm(vec1 - vec2)\n",
        "    angle_deg = np.degrees(np.arccos(np.clip(cosine_sim, -1.0, 1.0)))\n",
        "    return cosine_sim, euclidean_dist, angle_deg\n",
        "\n",
        "# ===============================\n",
        "# function: print inverse summary\n",
        "# ===============================\n",
        "def print_inverse_summary(df: pd.DataFrame):\n",
        "    print(\"\\n📊 Inverse Relation Metrics Summary\")\n",
        "    print(tabulate(df, headers=\"keys\", tablefmt=\"github\", floatfmt=\".4f\"))\n",
        "\n",
        "    print(\"\\n📈 Summary Statistics (Mean)\")\n",
        "    mean_stats = df[['Cosine Similarity', 'Euclidean Distance', 'Angle (°)']].mean().to_frame().T\n",
        "    print(tabulate(mean_stats, headers=\"keys\", tablefmt=\"github\", floatfmt=\".4f\"))\n",
        "\n",
        "    print(\"\\n📐 Inverse Pairs Sorted by Angle (Descending)\")\n",
        "    sorted_df = df.sort_values(\"Angle (°)\", ascending=False)[['Relation 1', 'Relation 2 (Inverse)', 'Angle (°)']]\n",
        "    print(tabulate(sorted_df, headers=\"keys\", tablefmt=\"github\", floatfmt=\".2f\"))\n",
        "\n",
        "\n",
        "# ==============================\n",
        "# function: plot PCA projections\n",
        "# ==============================\n",
        "def plot_pca_projections(W_3d, relation_names, title=\"PCA Projection\", ax=None):\n",
        "    cmap = plt.get_cmap(\"tab10\")\n",
        "    if ax is None:\n",
        "        fig, ax = plt.subplots(figsize=(8,6), subplot_kw={'projection':'3d'})\n",
        "\n",
        "    # Plot the points\n",
        "    for i, rel in enumerate(relation_names):\n",
        "        x, y, z = W_3d[i]\n",
        "        ax.scatter(x, y, z, s=100, color=cmap(i % 10))\n",
        "        ax.text(x, y, z, rel, fontsize=11, zorder=10)\n",
        "\n",
        "    # Now plot small dashed lines between known inverse relation pairs\n",
        "    inverse_pairs = [\n",
        "        (\"above\", \"below\"),\n",
        "        (\"to the left of\", \"to the right of\"),\n",
        "        (\"in front of\", \"behind\"),\n",
        "    ]\n",
        "\n",
        "    for rel1, rel2 in inverse_pairs:\n",
        "        if rel1 in relation_names and rel2 in relation_names:\n",
        "            idx1 = relation_names.index(rel1)\n",
        "            idx2 = relation_names.index(rel2)\n",
        "            x1, y1, z1 = W_3d[idx1]\n",
        "            x2, y2, z2 = W_3d[idx2]\n",
        "            ax.plot([x1, x2], [y1, y2], [z1, z2], color=\"gray\", linestyle=\"--\", linewidth=1)\n",
        "\n",
        "    ax.set_xlabel(\"PC1\")\n",
        "    ax.set_ylabel(\"PC2\")\n",
        "    ax.set_zlabel(\"PC3\")\n",
        "    ax.grid(True, linestyle='--', linewidth=0.5, alpha=0.2)\n",
        "\n",
        "\n",
        "\n",
        "# ================================\n",
        "# function: check inverse relation\n",
        "# ================================\n",
        "def check_inverse_relations(directions: Dict[str, np.ndarray], verbose=True) -> pd.DataFrame:\n",
        "    \"\"\"\n",
        "    Check inverse relations between binary spatial relation probe vectors.\n",
        "    Returns a DataFrame and displays PCA visualizations and decision boundaries.\n",
        "    \"\"\"\n",
        "    binary_spatial_relations = [\n",
        "        (\"above\", \"below\"),\n",
        "        (\"to the left of\", \"to the right of\"),\n",
        "        (\"in front of\", \"behind\"),\n",
        "    ]\n",
        "\n",
        "    results = []\n",
        "    for rel1, rel2 in binary_spatial_relations:\n",
        "        if rel1 in directions and rel2 in directions:\n",
        "            vec1, vec2 = directions[rel1], directions[rel2]\n",
        "            cos_sim, dist, angle = compute_inverse_metrics(vec1, vec2)\n",
        "            results.append({\n",
        "                'Relation 1': rel1,\n",
        "                'Relation 2 (Inverse)': rel2,\n",
        "                'Cosine Similarity': cos_sim,\n",
        "                'Euclidean Distance': dist,\n",
        "                'Angle (°)': angle\n",
        "            })\n",
        "            if verbose:\n",
        "                print(f\"\\n🔁 Inverse Pair: '{rel1}' ↔ '{rel2}'\")\n",
        "                print(f\"  Cosine Similarity: {cos_sim:.4f}\")\n",
        "                print(f\"  Angle: {angle:.2f}°\")\n",
        "\n",
        "    df = pd.DataFrame(results)\n",
        "    if not df.empty and verbose:\n",
        "        print_inverse_summary(df)\n",
        "\n",
        "    # === PCA ===\n",
        "    relation_names = list(directions.keys())\n",
        "    W = np.stack([directions[r] for r in relation_names])\n",
        "    pca = PCA(n_components=3)\n",
        "    W_3d = pca.fit_transform(W)\n",
        "\n",
        "    # depth for z axis\n",
        "\n",
        "    fig, ax = plt.subplots(figsize=(8,6), subplot_kw={'projection':'3d'})\n",
        "    plot_pca_projections(W_3d, relation_names, ax=ax)\n",
        "    plt.tight_layout()\n",
        "    plt.show()\n",
        "\n",
        "    plane_defs = {\n",
        "        'XY': {'axes': (0, 1),\n",
        "               'rels': ['above', 'below', 'to the right of', 'to the left of']},\n",
        "        'XZ': {'axes': (0, 2),\n",
        "               'rels': ['to the right of', 'to the left of', 'in front of', 'behind']},\n",
        "        'YZ': {'axes': (1, 2),\n",
        "               'rels': ['above', 'below', 'in front of', 'behind']}\n",
        "    }\n",
        "\n",
        "    # 3) Create subplots\n",
        "    fig, axs = plt.subplots(1, 3, figsize=(18, 6))\n",
        "    for ax, (plane, info) in zip(axs, plane_defs.items()):\n",
        "        idxs = [relation_names.index(r) for r in info['rels']]\n",
        "        # Correct slicing: first select rows, then select axes columns\n",
        "        coords = W_3d[idxs][:, info['axes']]  # shape (4,2)\n",
        "        xs, ys = coords.T\n",
        "\n",
        "        ax.scatter(xs, ys, s=100)\n",
        "        for (x, y), rel in zip(coords, info['rels']):\n",
        "            ax.text(x + 0.02, y + 0.02, rel, fontsize=11)\n",
        "\n",
        "        ax.set_title(f\"{plane}-plane projection\")\n",
        "        ax.set_xlabel(f\"PC{info['axes'][0] + 1}\")\n",
        "        ax.set_ylabel(f\"PC{info['axes'][1] + 1}\")\n",
        "        ax.grid(True)\n",
        "\n",
        "    plt.tight_layout()\n",
        "    plt.show()\n",
        "\n",
        "    # PCA Inverse Metrics & Decision Boundaries\n",
        "    for rel1, rel2 in binary_spatial_relations:\n",
        "        if rel1 in directions and rel2 in directions:\n",
        "            i1, i2 = relation_names.index(rel1), relation_names.index(rel2)\n",
        "            vec1_pca, vec2_pca = W_3d[i1], W_3d[i2]\n",
        "            cos_sim_3d, decision_boundary_vec, angle_deg_3d = compute_inverse_metrics(vec1_pca, vec2_pca)\n",
        "\n",
        "            if verbose:\n",
        "                print(f\"\\n🧭 PCA Inverse Pair: '{rel1}' ↔ '{rel2}'\")\n",
        "                print(f\"  PCA Cosine Similarity: {cos_sim_3d:.4f}\")\n",
        "                print(f\"  PCA Angle: {angle_deg_3d:.2f}°\")\n",
        "\n",
        "    return df\n",
        "\n",
        "\n"
      ],
      "metadata": {
        "id": "tI0stiz0JOvg"
      },
      "execution_count": null,
      "outputs": []
    },
    {
      "cell_type": "code",
      "source": [
        "# check directions' properties\n",
        "directions_df = {}\n",
        "\n",
        "for k in layers_list:\n",
        "    layer_name = f\"layer_{k}\"\n",
        "    print(f\"\\ninverse relation analysis for layer {k}...\")\n",
        "    directions_df[layer_name] = check_inverse_relations(directions[layer_name])"
      ],
      "metadata": {
        "colab": {
          "base_uri": "https://localhost:8080/",
          "height": 1000
        },
        "id": "3a6W2HVp8kZ6",
        "outputId": "31c0a458-2048-4435-a4a4-eb85571dd014"
      },
      "execution_count": null,
      "outputs": [
        {
          "output_type": "stream",
          "name": "stdout",
          "text": [
            "\n",
            "inverse relation analysis for layer 16...\n",
            "\n",
            "🔁 Inverse Pair: 'above' ↔ 'below'\n",
            "  Cosine Similarity: 0.3862\n",
            "  Angle: 67.28°\n",
            "\n",
            "🔁 Inverse Pair: 'to the left of' ↔ 'to the right of'\n",
            "  Cosine Similarity: 0.9656\n",
            "  Angle: 15.07°\n",
            "\n",
            "🔁 Inverse Pair: 'in front of' ↔ 'behind'\n",
            "  Cosine Similarity: 0.0736\n",
            "  Angle: 85.78°\n",
            "\n",
            "📊 Inverse Relation Metrics Summary\n",
            "|    | Relation 1     | Relation 2 (Inverse)   |   Cosine Similarity |   Euclidean Distance |   Angle (°) |\n",
            "|----|----------------|------------------------|---------------------|----------------------|-------------|\n",
            "|  0 | above          | below                  |              0.3862 |              31.0785 |     67.2796 |\n",
            "|  1 | to the left of | to the right of        |              0.9656 |              84.1311 |     15.0688 |\n",
            "|  2 | in front of    | behind                 |              0.0736 |              24.5744 |     85.7800 |\n",
            "\n",
            "📈 Summary Statistics (Mean)\n",
            "|    |   Cosine Similarity |   Euclidean Distance |   Angle (°) |\n",
            "|----|---------------------|----------------------|-------------|\n",
            "|  0 |              0.4751 |              46.5947 |     56.0428 |\n",
            "\n",
            "📐 Inverse Pairs Sorted by Angle (Descending)\n",
            "|    | Relation 1     | Relation 2 (Inverse)   |   Angle (°) |\n",
            "|----|----------------|------------------------|-------------|\n",
            "|  2 | in front of    | behind                 |       85.78 |\n",
            "|  0 | above          | below                  |       67.28 |\n",
            "|  1 | to the left of | to the right of        |       15.07 |\n"
          ]
        },
        {
          "output_type": "display_data",
          "data": {
            "text/plain": [
              "<Figure size 800x600 with 1 Axes>"
            ],
            "image/png": "[encoded data removed]"
          },
          "metadata": {}
        },
        {
          "output_type": "display_data",
          "data": {
            "text/plain": [
              "<Figure size 1800x600 with 3 Axes>"
            ],
            "image/png": "[encoded data removed]"
          },
          "metadata": {}
        },
        {
          "output_type": "stream",
          "name": "stdout",
          "text": [
            "\n",
            "🧭 PCA Inverse Pair: 'above' ↔ 'below'\n",
            "  PCA Cosine Similarity: 0.7889\n",
            "  PCA Angle: 37.92°\n",
            "\n",
            "🧭 PCA Inverse Pair: 'to the left of' ↔ 'to the right of'\n",
            "  PCA Cosine Similarity: 0.9993\n",
            "  PCA Angle: 2.12°\n",
            "\n",
            "🧭 PCA Inverse Pair: 'in front of' ↔ 'behind'\n",
            "  PCA Cosine Similarity: 0.9554\n",
            "  PCA Angle: 17.18°\n",
            "\n",
            "inverse relation analysis for layer 24...\n",
            "\n",
            "🔁 Inverse Pair: 'above' ↔ 'below'\n",
            "  Cosine Similarity: 0.4449\n",
            "  Angle: 63.58°\n",
            "\n",
            "🔁 Inverse Pair: 'to the left of' ↔ 'to the right of'\n",
            "  Cosine Similarity: 0.9640\n",
            "  Angle: 15.42°\n",
            "\n",
            "🔁 Inverse Pair: 'in front of' ↔ 'behind'\n",
            "  Cosine Similarity: 0.1137\n",
            "  Angle: 83.47°\n",
            "\n",
            "📊 Inverse Relation Metrics Summary\n",
            "|    | Relation 1     | Relation 2 (Inverse)   |   Cosine Similarity |   Euclidean Distance |   Angle (°) |\n",
            "|----|----------------|------------------------|---------------------|----------------------|-------------|\n",
            "|  0 | above          | below                  |              0.4449 |              24.3855 |     63.5800 |\n",
            "|  1 | to the left of | to the right of        |              0.9640 |              47.4388 |     15.4213 |\n",
            "|  2 | in front of    | behind                 |              0.1137 |              18.3220 |     83.4708 |\n",
            "\n",
            "📈 Summary Statistics (Mean)\n",
            "|    |   Cosine Similarity |   Euclidean Distance |   Angle (°) |\n",
            "|----|---------------------|----------------------|-------------|\n",
            "|  0 |              0.5076 |              30.0488 |     54.1574 |\n",
            "\n",
            "📐 Inverse Pairs Sorted by Angle (Descending)\n",
            "|    | Relation 1     | Relation 2 (Inverse)   |   Angle (°) |\n",
            "|----|----------------|------------------------|-------------|\n",
            "|  2 | in front of    | behind                 |       83.47 |\n",
            "|  0 | above          | below                  |       63.58 |\n",
            "|  1 | to the left of | to the right of        |       15.42 |\n"
          ]
        },
        {
          "output_type": "display_data",
          "data": {
            "text/plain": [
              "<Figure size 800x600 with 1 Axes>"
            ],
            "image/png": "[encoded data removed]"
          },
          "metadata": {}
        },
        {
          "output_type": "display_data",
          "data": {
            "text/plain": [
              "<Figure size 1800x600 with 3 Axes>"
            ],
            "image/png": "[encoded data removed]"
          },
          "metadata": {}
        },
        {
          "output_type": "stream",
          "name": "stdout",
          "text": [
            "\n",
            "🧭 PCA Inverse Pair: 'above' ↔ 'below'\n",
            "  PCA Cosine Similarity: 0.9779\n",
            "  PCA Angle: 12.08°\n",
            "\n",
            "🧭 PCA Inverse Pair: 'to the left of' ↔ 'to the right of'\n",
            "  PCA Cosine Similarity: 0.9969\n",
            "  PCA Angle: 4.55°\n",
            "\n",
            "🧭 PCA Inverse Pair: 'in front of' ↔ 'behind'\n",
            "  PCA Cosine Similarity: 0.9949\n",
            "  PCA Angle: 5.76°\n"
          ]
        }
      ]
    },
    {
      "cell_type": "code",
      "source": [],
      "metadata": {
        "id": "g-epO5GIJE0b"
      },
      "execution_count": null,
      "outputs": []
    }
  ]
}