{
  "cells": [
    {
      "cell_type": "code",
      "execution_count": 1,
      "metadata": {
        "colab": {
          "base_uri": "https://localhost:8080/"
        },
        "id": "q2zjt9mzc_Ob",
        "outputId": "a9d70441-1b08-414f-b88a-a096e310ca6f"
      },
      "outputs": [
        {
          "name": "stdout",
          "output_type": "stream",
          "text": [
            "\n",
            "\u001b[1m[\u001b[0m\u001b[34;49mnotice\u001b[0m\u001b[1;39;49m]\u001b[0m\u001b[39;49m A new release of pip is available: \u001b[0m\u001b[31;49m24.2\u001b[0m\u001b[39;49m -> \u001b[0m\u001b[32;49m25.0.1\u001b[0m\n",
            "\u001b[1m[\u001b[0m\u001b[34;49mnotice\u001b[0m\u001b[1;39;49m]\u001b[0m\u001b[39;49m To update, run: \u001b[0m\u001b[32;49mpip install --upgrade pip\u001b[0m\n"
          ]
        }
      ],
      "source": [
        "!pip install datasets -q"
      ]
    },
    {
      "cell_type": "markdown",
      "metadata": {
        "id": "Cenu4Y9dgW7E"
      },
      "source": [
        "## get layer"
      ]
    },
    {
      "cell_type": "code",
      "execution_count": 2,
      "metadata": {
        "id": "cYH--nTTM3R2"
      },
      "outputs": [
        {
          "ename": "ModuleNotFoundError",
          "evalue": "No module named 'google.colab'",
          "output_type": "error",
          "traceback": [
            "\u001b[0;31m---------------------------------------------------------------------------\u001b[0m",
            "\u001b[0;31mModuleNotFoundError\u001b[0m                       Traceback (most recent call last)",
            "Cell \u001b[0;32mIn[2], line 5\u001b[0m\n\u001b[1;32m      3\u001b[0m \u001b[38;5;28;01mfrom\u001b[39;00m \u001b[38;5;21;01mdatasets\u001b[39;00m \u001b[38;5;28;01mimport\u001b[39;00m load_dataset\n\u001b[1;32m      4\u001b[0m \u001b[38;5;28;01mfrom\u001b[39;00m \u001b[38;5;21;01mtransformers\u001b[39;00m \u001b[38;5;28;01mimport\u001b[39;00m AutoTokenizer, AutoModelForCausalLM\n\u001b[0;32m----> 5\u001b[0m \u001b[38;5;28;01mfrom\u001b[39;00m \u001b[38;5;21;01mgoogle\u001b[39;00m\u001b[38;5;21;01m.\u001b[39;00m\u001b[38;5;21;01mcolab\u001b[39;00m \u001b[38;5;28;01mimport\u001b[39;00m drive, userdata\n\u001b[1;32m      6\u001b[0m \u001b[38;5;28;01mfrom\u001b[39;00m \u001b[38;5;21;01mtqdm\u001b[39;00m \u001b[38;5;28;01mimport\u001b[39;00m tqdm\n\u001b[1;32m      7\u001b[0m \u001b[38;5;28;01mimport\u001b[39;00m \u001b[38;5;21;01mh5py\u001b[39;00m  \u001b[38;5;66;03m# For storing data in HDF5\u001b[39;00m\n",
            "\u001b[0;31mModuleNotFoundError\u001b[0m: No module named 'google.colab'"
          ]
        }
      ],
      "source": [
        "import torch\n",
        "import numpy as np\n",
        "from datasets import load_dataset\n",
        "from transformers import AutoTokenizer, AutoModelForCausalLM\n",
        "from google.colab import drive, userdata\n",
        "from tqdm import tqdm\n",
        "import h5py  # For storing data in HDF5\n",
        "\n",
        "# Setup\n",
        "hf_token = userdata.get('HF_Meta')\n",
        "model_name = \"meta-llama/Llama-3.2-3B-Instruct\"\n",
        "\n",
        "# Load the dataset\n",
        "dataset = load_dataset(\"matthieunlp/spatial_geometry\")\n",
        "\n",
        "# Load model & tokenizer\n",
        "tokenizer = AutoTokenizer.from_pretrained(model_name, token=hf_token)\n",
        "model = AutoModelForCausalLM.from_pretrained(\n",
        "    model_name,\n",
        "    token=hf_token,\n",
        "    output_hidden_states=True,\n",
        "    device_map=\"auto\"\n",
        ")\n",
        "model.eval()\n",
        "\n",
        "# Prepare storing data\n",
        "sentences = []\n",
        "layer8_list = []\n",
        "layer16_list = []\n",
        "layer24_list = []\n",
        "\n",
        "# 5. Iterate over dataset with tqdm progress bar\n",
        "print(\"Extracting embeddings...\")\n",
        "for idx, entry in enumerate(tqdm(dataset[\"train\"], desc=\"Rows\")):\n",
        "    # Get sentence\n",
        "    sentence_text = entry['The table is above the chair.']\n",
        "\n",
        "    # Tokenize\n",
        "    inputs = tokenizer(sentence_text, return_tensors=\"pt\", truncation=True)\n",
        "    inputs = {k: v.to(model.device) for k, v in inputs.items()}\n",
        "\n",
        "    # Inference\n",
        "    with torch.no_grad():\n",
        "        outputs = model(**inputs, output_hidden_states=True)\n",
        "\n",
        "        hidden_states = outputs.hidden_states # tuple of length [number_of_layers + 1], shape: (batch_size, seq_len, hidden_dim)\n",
        "\n",
        "        # last token's embedding: hidden_states[layer][:, -1, :]\n",
        "        layer8 = hidden_states[8][:, -1, :].squeeze(0).cpu().numpy()\n",
        "        layer16 = hidden_states[16][:, -1, :].squeeze(0).cpu().numpy()\n",
        "        layer24 = hidden_states[24][:, -1, :].squeeze(0).cpu().numpy()\n",
        "\n",
        "        # Append to our lists\n",
        "        sentences.append(sentence_text)\n",
        "        layer8_list.append(layer8)\n",
        "        layer16_list.append(layer16)\n",
        "        layer24_list.append(layer24)\n",
        "\n",
        "    # Optional: break early for testing\n",
        "    if idx >= 5:\n",
        "        break\n",
        "\n",
        "# Convert lists to NumPy arrays [num_sentences, hidden_dim]\n",
        "layer8_array = np.stack(layer8_list, axis=0)\n",
        "layer16_array = np.stack(layer16_list, axis=0)\n",
        "layer24_array = np.stack(layer24_list, axis=0)\n",
        "\n",
        "# save\n",
        "save_path = \"/content/drive/MyDrive/Llama-3.2-3B-Instruct_layer_embeddings.h5\"\n",
        "\n",
        "with h5py.File(save_path, \"w\") as f:\n",
        "    # Create a dataset for sentences\n",
        "    string_dt = h5py.special_dtype(vlen=str)\n",
        "    dset_sentences = f.create_dataset(\"sentences\", shape=(len(sentences),), dtype=string_dt)\n",
        "    dset_sentences[:] = sentences\n",
        "\n",
        "    # Create datasets for embeddings\n",
        "    f.create_dataset(\"layer_8\", data=layer8_array, compression=\"gzip\")\n",
        "    f.create_dataset(\"layer_16\", data=layer16_array, compression=\"gzip\")\n",
        "    f.create_dataset(\"layer_24\", data=layer24_array, compression=\"gzip\")\n",
        "\n",
        "print(f\"Embeddings saved to: {save_path}\")\n",
        "\n",
        "# Summary Statistics\n",
        "desired_layers = [8, 16, 24]\n",
        "print(\"\\n==== SUMMARY STATISTICS ====\")\n",
        "print(f\"Total dataset rows processed: {len(dataset['train'])}\")\n",
        "print(f\"Total sentences collected: {len(sentences)}\")\n",
        "print(f\"Layers extracted: {desired_layers}\")\n",
        "print(f\"Shape of each embedding array: {layer8_array.shape} (should match sentences)\")"
      ]
    },
    {
      "cell_type": "code",
      "execution_count": 6,
      "metadata": {
        "id": "8sNeJswcidgW"
      },
      "outputs": [],
      "source": [
        "hdf5_path = \"/content/drive/MyDrive/Llama-3.2-3B-Instruct_layer_embeddings.h5\""
      ]
    },
    {
      "cell_type": "code",
      "execution_count": 7,
      "metadata": {
        "id": "08uykpF9lJss"
      },
      "outputs": [],
      "source": [
        "import h5py\n",
        "\n",
        "with h5py.File(hdf5_path, \"r\") as f:\n",
        "    # Load the sentences\n",
        "    sentences_stored = f[\"sentences\"][:]\n",
        "\n",
        "    # Load the embeddings\n",
        "    layer8_stored = f[\"layer_8\"][:]       # shape: (num_sentences, hidden_dim)\n",
        "    layer16_stored = f[\"layer_16\"][:]\n",
        "    layer24_stored = f[\"layer_24\"][:]\n"
      ]
    },
    {
      "cell_type": "code",
      "execution_count": 12,
      "metadata": {
        "colab": {
          "base_uri": "https://localhost:8080/",
          "height": 426,
          "referenced_widgets": [
            "51514926cb0c4e78ba8cfb984c3de3b2",
            "be1e1ce57a7942c1835635633246b08c",
            "aeb0d71e018544b6b34f25eb33f5d6d8",
            "917d225432c44d899d9465e713335ad8",
            "39b1249492c448fbaf3d234fd4f83035",
            "c1c9554b3b0c46abb65b5277b68e82c7",
            "34d16c2420e14d24820d87a69398ce6f",
            "7b1763530852435eabfbf2e1750d6b1f",
            "1558442ca8d7434d9c18702b27f0877e",
            "ac5427ea408744ce9c57f7dc48079467",
            "68e6ba994877445f8cee1eef8ac5923d"
          ]
        },
        "id": "KdVp6xlML0HO",
        "outputId": "ecfc6d34-07bc-46db-ba11-6b230bd19d9b"
      },
      "outputs": [
        {
          "data": {
            "application/vnd.jupyter.widget-view+json": {
              "model_id": "51514926cb0c4e78ba8cfb984c3de3b2",
              "version_major": 2,
              "version_minor": 0
            },
            "text/plain": [
              "Generating train split:   0%|          | 0/142099 [00:00<?, ? examples/s]"
            ]
          },
          "metadata": {},
          "output_type": "display_data"
        },
        {
          "name": "stdout",
          "output_type": "stream",
          "text": [
            "\n",
            "Detailed dataset inspection:\n",
            "1. Dataset keys: dict_keys(['train'])\n",
            "\n",
            "2. Train split column names: ['The table is above the chair.']\n",
            "\n",
            "3. First 10 rows:\n",
            "Row 0: {'The table is above the chair.': 'The table is over the chair.'}\n",
            "Row 1: {'The table is above the chair.': 'The table is on top of the chair.'}\n",
            "Row 2: {'The table is above the chair.': 'The table is higher than the chair.'}\n",
            "Row 3: {'The table is above the chair.': 'The table is elevated above the chair.'}\n",
            "Row 4: {'The table is above the chair.': 'The table is to the left of the chair.'}\n",
            "Row 5: {'The table is above the chair.': 'The table is in front of the chair.'}\n",
            "Row 6: {'The table is above the chair.': 'The table is ahead of the chair.'}\n",
            "Row 7: {'The table is above the chair.': 'The table is before the chair.'}\n",
            "Row 8: {'The table is above the chair.': 'The table is inside the chair.'}\n",
            "Row 9: {'The table is above the chair.': 'The table is within the chair.'}\n",
            "\n",
            "4. Dataset info:\n",
            "DatasetInfo(description='', citation='', homepage='', license='', features={'The table is above the chair.': Value(dtype='string', id=None)}, post_processed=None, supervised_keys=None, builder_name='csv', dataset_name='spatial_geometry', config_name='default', version=0.0.0, splits={'train': SplitInfo(name='train', num_bytes=5593709, num_examples=142099, shard_lengths=None, dataset_name='spatial_geometry')}, download_checksums={'hf://datasets/matthieunlp/spatial_geometry@9dad3fc3cf7d5d47fe095d1b21209468d1b6cc91/generated_sentences.csv': {'num_bytes': 5309542, 'checksum': None}}, download_size=5309542, post_processing_size=None, dataset_size=5593709, size_in_bytes=10903251)\n"
          ]
        }
      ],
      "source": [
        "from datasets import load_dataset\n",
        "\n",
        "# Load dataset with more verbose options\n",
        "dataset = load_dataset(\n",
        "    \"matthieunlp/spatial_geometry\",\n",
        "    use_auth_token=None,  # In case authentication is needed\n",
        "    verification_mode='no_checks'\n",
        ")\n",
        "\n",
        "# More detailed inspection\n",
        "print(\"\\nDetailed dataset inspection:\")\n",
        "print(\"1. Dataset keys:\", dataset.keys())\n",
        "print(\"\\n2. Train split column names:\", dataset[\"train\"].column_names)\n",
        "print(\"\\n3. First 10 rows:\")\n",
        "for i, row in enumerate(dataset[\"train\"].select(range(10))):\n",
        "    print(f\"Row {i}:\", row)\n",
        "print(\"\\n4. Dataset info:\")\n",
        "print(dataset[\"train\"].info)"
      ]
    },
    {
      "cell_type": "code",
      "execution_count": null,
      "metadata": {
        "colab": {
          "base_uri": "https://localhost:8080/"
        },
        "id": "cDlENFk-FCns",
        "outputId": "a32b8a73-35e4-411e-84c3-7ae68398e674"
      },
      "outputs": [
        {
          "name": "stdout",
          "output_type": "stream",
          "text": [
            "LlamaForCausalLM(\n",
            "  (model): LlamaModel(\n",
            "    (embed_tokens): Embedding(128256, 3072)\n",
            "    (layers): ModuleList(\n",
            "      (0-27): 28 x LlamaDecoderLayer(\n",
            "        (self_attn): LlamaAttention(\n",
            "          (q_proj): Linear(in_features=3072, out_features=3072, bias=False)\n",
            "          (k_proj): Linear(in_features=3072, out_features=1024, bias=False)\n",
            "          (v_proj): Linear(in_features=3072, out_features=1024, bias=False)\n",
            "          (o_proj): Linear(in_features=3072, out_features=3072, bias=False)\n",
            "        )\n",
            "        (mlp): LlamaMLP(\n",
            "          (gate_proj): Linear(in_features=3072, out_features=8192, bias=False)\n",
            "          (up_proj): Linear(in_features=3072, out_features=8192, bias=False)\n",
            "          (down_proj): Linear(in_features=8192, out_features=3072, bias=False)\n",
            "          (act_fn): SiLU()\n",
            "        )\n",
            "        (input_layernorm): LlamaRMSNorm((3072,), eps=1e-05)\n",
            "        (post_attention_layernorm): LlamaRMSNorm((3072,), eps=1e-05)\n",
            "      )\n",
            "    )\n",
            "    (norm): LlamaRMSNorm((3072,), eps=1e-05)\n",
            "    (rotary_emb): LlamaRotaryEmbedding()\n",
            "  )\n",
            "  (lm_head): Linear(in_features=3072, out_features=128256, bias=False)\n",
            ")\n"
          ]
        }
      ],
      "source": [
        "print(model)"
      ]
    },
    {
      "cell_type": "markdown",
      "metadata": {
        "id": "ZmgnM0tR-sGw"
      },
      "source": [
        "## end"
      ]
    }
  ],
  "metadata": {
    "accelerator": "GPU",
    "colab": {
      "gpuType": "A100",
      "machine_shape": "hm",
      "provenance": [],
      "toc_visible": true
    },
    "kernelspec": {
      "display_name": "Python 3",
      "name": "python3"
    },
    "language_info": {
      "codemirror_mode": {
        "name": "ipython",
        "version": 3
      },
      "file_extension": ".py",
      "mimetype": "text/x-python",
      "name": "python",
      "nbconvert_exporter": "python",
      "pygments_lexer": "ipython3",
      "version": "3.10.0"
    },
    "widgets": {
      "application/vnd.jupyter.widget-state+json": {
        "1558442ca8d7434d9c18702b27f0877e": {
          "model_module": "@jupyter-widgets/controls",
          "model_module_version": "1.5.0",
          "model_name": "ProgressStyleModel",
          "state": {
            "_model_module": "@jupyter-widgets/controls",
            "_model_module_version": "1.5.0",
            "_model_name": "ProgressStyleModel",
            "_view_count": null,
            "_view_module": "@jupyter-widgets/base",
            "_view_module_version": "1.2.0",
            "_view_name": "StyleView",
            "bar_color": null,
            "description_width": ""
          }
        },
        "34d16c2420e14d24820d87a69398ce6f": {
          "model_module": "@jupyter-widgets/controls",
          "model_module_version": "1.5.0",
          "model_name": "DescriptionStyleModel",
          "state": {
            "_model_module": "@jupyter-widgets/controls",
            "_model_module_version": "1.5.0",
            "_model_name": "DescriptionStyleModel",
            "_view_count": null,
            "_view_module": "@jupyter-widgets/base",
            "_view_module_version": "1.2.0",
            "_view_name": "StyleView",
            "description_width": ""
          }
        },
        "39b1249492c448fbaf3d234fd4f83035": {
          "model_module": "@jupyter-widgets/base",
          "model_module_version": "1.2.0",
          "model_name": "LayoutModel",
          "state": {
            "_model_module": "@jupyter-widgets/base",
            "_model_module_version": "1.2.0",
            "_model_name": "LayoutModel",
            "_view_count": null,
            "_view_module": "@jupyter-widgets/base",
            "_view_module_version": "1.2.0",
            "_view_name": "LayoutView",
            "align_content": null,
            "align_items": null,
            "align_self": null,
            "border": null,
            "bottom": null,
            "display": null,
            "flex": null,
            "flex_flow": null,
            "grid_area": null,
            "grid_auto_columns": null,
            "grid_auto_flow": null,
            "grid_auto_rows": null,
            "grid_column": null,
            "grid_gap": null,
            "grid_row": null,
            "grid_template_areas": null,
            "grid_template_columns": null,
            "grid_template_rows": null,
            "height": null,
            "justify_content": null,
            "justify_items": null,
            "left": null,
            "margin": null,
            "max_height": null,
            "max_width": null,
            "min_height": null,
            "min_width": null,
            "object_fit": null,
            "object_position": null,
            "order": null,
            "overflow": null,
            "overflow_x": null,
            "overflow_y": null,
            "padding": null,
            "right": null,
            "top": null,
            "visibility": null,
            "width": null
          }
        },
        "51514926cb0c4e78ba8cfb984c3de3b2": {
          "model_module": "@jupyter-widgets/controls",
          "model_module_version": "1.5.0",
          "model_name": "HBoxModel",
          "state": {
            "_dom_classes": [],
            "_model_module": "@jupyter-widgets/controls",
            "_model_module_version": "1.5.0",
            "_model_name": "HBoxModel",
            "_view_count": null,
            "_view_module": "@jupyter-widgets/controls",
            "_view_module_version": "1.5.0",
            "_view_name": "HBoxView",
            "box_style": "",
            "children": [
              "IPY_MODEL_be1e1ce57a7942c1835635633246b08c",
              "IPY_MODEL_aeb0d71e018544b6b34f25eb33f5d6d8",
              "IPY_MODEL_917d225432c44d899d9465e713335ad8"
            ],
            "layout": "IPY_MODEL_39b1249492c448fbaf3d234fd4f83035"
          }
        },
        "68e6ba994877445f8cee1eef8ac5923d": {
          "model_module": "@jupyter-widgets/controls",
          "model_module_version": "1.5.0",
          "model_name": "DescriptionStyleModel",
          "state": {
            "_model_module": "@jupyter-widgets/controls",
            "_model_module_version": "1.5.0",
            "_model_name": "DescriptionStyleModel",
            "_view_count": null,
            "_view_module": "@jupyter-widgets/base",
            "_view_module_version": "1.2.0",
            "_view_name": "StyleView",
            "description_width": ""
          }
        },
        "7b1763530852435eabfbf2e1750d6b1f": {
          "model_module": "@jupyter-widgets/base",
          "model_module_version": "1.2.0",
          "model_name": "LayoutModel",
          "state": {
            "_model_module": "@jupyter-widgets/base",
            "_model_module_version": "1.2.0",
            "_model_name": "LayoutModel",
            "_view_count": null,
            "_view_module": "@jupyter-widgets/base",
            "_view_module_version": "1.2.0",
            "_view_name": "LayoutView",
            "align_content": null,
            "align_items": null,
            "align_self": null,
            "border": null,
            "bottom": null,
            "display": null,
            "flex": null,
            "flex_flow": null,
            "grid_area": null,
            "grid_auto_columns": null,
            "grid_auto_flow": null,
            "grid_auto_rows": null,
            "grid_column": null,
            "grid_gap": null,
            "grid_row": null,
            "grid_template_areas": null,
            "grid_template_columns": null,
            "grid_template_rows": null,
            "height": null,
            "justify_content": null,
            "justify_items": null,
            "left": null,
            "margin": null,
            "max_height": null,
            "max_width": null,
            "min_height": null,
            "min_width": null,
            "object_fit": null,
            "object_position": null,
            "order": null,
            "overflow": null,
            "overflow_x": null,
            "overflow_y": null,
            "padding": null,
            "right": null,
            "top": null,
            "visibility": null,
            "width": null
          }
        },
        "917d225432c44d899d9465e713335ad8": {
          "model_module": "@jupyter-widgets/controls",
          "model_module_version": "1.5.0",
          "model_name": "HTMLModel",
          "state": {
            "_dom_classes": [],
            "_model_module": "@jupyter-widgets/controls",
            "_model_module_version": "1.5.0",
            "_model_name": "HTMLModel",
            "_view_count": null,
            "_view_module": "@jupyter-widgets/controls",
            "_view_module_version": "1.5.0",
            "_view_name": "HTMLView",
            "description": "",
            "description_tooltip": null,
            "layout": "IPY_MODEL_ac5427ea408744ce9c57f7dc48079467",
            "placeholder": "​",
            "style": "IPY_MODEL_68e6ba994877445f8cee1eef8ac5923d",
            "value": " 142099/142099 [00:00&lt;00:00, 1120466.88 examples/s]"
          }
        },
        "ac5427ea408744ce9c57f7dc48079467": {
          "model_module": "@jupyter-widgets/base",
          "model_module_version": "1.2.0",
          "model_name": "LayoutModel",
          "state": {
            "_model_module": "@jupyter-widgets/base",
            "_model_module_version": "1.2.0",
            "_model_name": "LayoutModel",
            "_view_count": null,
            "_view_module": "@jupyter-widgets/base",
            "_view_module_version": "1.2.0",
            "_view_name": "LayoutView",
            "align_content": null,
            "align_items": null,
            "align_self": null,
            "border": null,
            "bottom": null,
            "display": null,
            "flex": null,
            "flex_flow": null,
            "grid_area": null,
            "grid_auto_columns": null,
            "grid_auto_flow": null,
            "grid_auto_rows": null,
            "grid_column": null,
            "grid_gap": null,
            "grid_row": null,
            "grid_template_areas": null,
            "grid_template_columns": null,
            "grid_template_rows": null,
            "height": null,
            "justify_content": null,
            "justify_items": null,
            "left": null,
            "margin": null,
            "max_height": null,
            "max_width": null,
            "min_height": null,
            "min_width": null,
            "object_fit": null,
            "object_position": null,
            "order": null,
            "overflow": null,
            "overflow_x": null,
            "overflow_y": null,
            "padding": null,
            "right": null,
            "top": null,
            "visibility": null,
            "width": null
          }
        },
        "aeb0d71e018544b6b34f25eb33f5d6d8": {
          "model_module": "@jupyter-widgets/controls",
          "model_module_version": "1.5.0",
          "model_name": "FloatProgressModel",
          "state": {
            "_dom_classes": [],
            "_model_module": "@jupyter-widgets/controls",
            "_model_module_version": "1.5.0",
            "_model_name": "FloatProgressModel",
            "_view_count": null,
            "_view_module": "@jupyter-widgets/controls",
            "_view_module_version": "1.5.0",
            "_view_name": "ProgressView",
            "bar_style": "success",
            "description": "",
            "description_tooltip": null,
            "layout": "IPY_MODEL_7b1763530852435eabfbf2e1750d6b1f",
            "max": 142099,
            "min": 0,
            "orientation": "horizontal",
            "style": "IPY_MODEL_1558442ca8d7434d9c18702b27f0877e",
            "value": 142099
          }
        },
        "be1e1ce57a7942c1835635633246b08c": {
          "model_module": "@jupyter-widgets/controls",
          "model_module_version": "1.5.0",
          "model_name": "HTMLModel",
          "state": {
            "_dom_classes": [],
            "_model_module": "@jupyter-widgets/controls",
            "_model_module_version": "1.5.0",
            "_model_name": "HTMLModel",
            "_view_count": null,
            "_view_module": "@jupyter-widgets/controls",
            "_view_module_version": "1.5.0",
            "_view_name": "HTMLView",
            "description": "",
            "description_tooltip": null,
            "layout": "IPY_MODEL_c1c9554b3b0c46abb65b5277b68e82c7",
            "placeholder": "​",
            "style": "IPY_MODEL_34d16c2420e14d24820d87a69398ce6f",
            "value": "Generating train split: 100%"
          }
        },
        "c1c9554b3b0c46abb65b5277b68e82c7": {
          "model_module": "@jupyter-widgets/base",
          "model_module_version": "1.2.0",
          "model_name": "LayoutModel",
          "state": {
            "_model_module": "@jupyter-widgets/base",
            "_model_module_version": "1.2.0",
            "_model_name": "LayoutModel",
            "_view_count": null,
            "_view_module": "@jupyter-widgets/base",
            "_view_module_version": "1.2.0",
            "_view_name": "LayoutView",
            "align_content": null,
            "align_items": null,
            "align_self": null,
            "border": null,
            "bottom": null,
            "display": null,
            "flex": null,
            "flex_flow": null,
            "grid_area": null,
            "grid_auto_columns": null,
            "grid_auto_flow": null,
            "grid_auto_rows": null,
            "grid_column": null,
            "grid_gap": null,
            "grid_row": null,
            "grid_template_areas": null,
            "grid_template_columns": null,
            "grid_template_rows": null,
            "height": null,
            "justify_content": null,
            "justify_items": null,
            "left": null,
            "margin": null,
            "max_height": null,
            "max_width": null,
            "min_height": null,
            "min_width": null,
            "object_fit": null,
            "object_position": null,
            "order": null,
            "overflow": null,
            "overflow_x": null,
            "overflow_y": null,
            "padding": null,
            "right": null,
            "top": null,
            "visibility": null,
            "width": null
          }
        }
      }
    }
  },
  "nbformat": 4,
  "nbformat_minor": 0
}
